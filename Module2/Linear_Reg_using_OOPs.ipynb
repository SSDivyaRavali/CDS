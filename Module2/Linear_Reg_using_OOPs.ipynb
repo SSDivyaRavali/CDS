{
  "nbformat": 4,
  "nbformat_minor": 5,
  "metadata": {
    "kernelspec": {
      "display_name": "Python 3",
      "language": "python",
      "name": "python3"
    },
    "language_info": {
      "codemirror_mode": {
        "name": "ipython",
        "version": 3
      },
      "file_extension": ".py",
      "mimetype": "text/x-python",
      "name": "python",
      "nbconvert_exporter": "python",
      "pygments_lexer": "ipython3",
      "version": "3.5.2"
    },
    "colab": {
      "name": "M2-SNB_MiniProject_02_OOPs.ipynb",
      "provenance": [],
      "collapsed_sections": [
        "selected-assets",
        "ruled-limit"
      ],
      "include_colab_link": true
    }
  },
  "cells": [
    {
      "cell_type": "markdown",
      "metadata": {
        "id": "view-in-github",
        "colab_type": "text"
      },
      "source": [
        "<a href=\"https://colab.research.google.com/github/SSDivyaRavali/CDS/blob/main/Module2/Linear_Reg_using_OOPs.ipynb\" target=\"_parent\"><img src=\"https://colab.research.google.com/assets/colab-badge.svg\" alt=\"Open In Colab\"/></a>"
      ]
    },
    {
      "cell_type": "markdown",
      "metadata": {
        "id": "hawaiian-astronomy"
      },
      "source": [
        "# Advanced Certification Program in Computational Data Science\n",
        "## A program by IISc and TalentSprint\n",
        "### Mini-Project: Implementation of Linear Regression using OOPs"
      ],
      "id": "hawaiian-astronomy"
    },
    {
      "cell_type": "markdown",
      "metadata": {
        "id": "n-kxaHhwXEp9"
      },
      "source": [
        "**DISCLAIMER:** THIS NOTEBOOK IS PROVIDED ONLY AS A REFERENCE SOLUTION NOTEBOOK FOR THE MINI-PROJECT. THERE MAY BE OTHER POSSIBLE APPROACHES/METHODS TO ACHIEVE THE SAME RESULTS."
      ],
      "id": "n-kxaHhwXEp9"
    },
    {
      "cell_type": "markdown",
      "metadata": {
        "id": "latin-seventh"
      },
      "source": [
        "## Learning Objectives"
      ],
      "id": "latin-seventh"
    },
    {
      "cell_type": "markdown",
      "metadata": {
        "id": "civil-joyce"
      },
      "source": [
        "At the end of the mini-project, you will be able to :\n",
        "\n",
        "- understand the power and flexibility of the Object-oriented programming (OOP) paradigm\n",
        "- build OOP based classes and methods and use them to implement Linear Regression for solving real world data related queries\n"
      ],
      "id": "civil-joyce"
    },
    {
      "cell_type": "markdown",
      "metadata": {
        "id": "Ja9JFtSUU1gl"
      },
      "source": [
        "## Problem Statement"
      ],
      "id": "Ja9JFtSUU1gl"
    },
    {
      "cell_type": "markdown",
      "metadata": {
        "id": "CDs5z_5ZU4H6"
      },
      "source": [
        "Implement linear regression using classes and methods built with OOP."
      ],
      "id": "CDs5z_5ZU4H6"
    },
    {
      "cell_type": "markdown",
      "metadata": {
        "id": "genetic-discount"
      },
      "source": [
        "## Information"
      ],
      "id": "genetic-discount"
    },
    {
      "cell_type": "markdown",
      "metadata": {
        "id": "pharmaceutical-stopping"
      },
      "source": [
        "#### Object oriented programming in a nutshell\n",
        "\n",
        "Object oriented programming is based around the concept of \"objects\". Objects have two kinds of attributes (accessed via . sytax): data attributes (or instance variables) and function attributes (or methods). Object data is typically modified by object methods.\n",
        "\n",
        "To know more about OOPs click [here](https://docs.python.org/3/tutorial/classes.html)\n",
        "\n",
        "#### Linear Regression\n",
        "\n",
        "In statistics, linear regression is a linear approach to modelling the relationship between a scalar response and one or more explanatory variables (also known as dependent and independent variables). The case of one explanatory variable is called simple linear regression; for more than one, the process is called multiple linear regression.\n",
        "\n",
        "To know more about Linear regression  click [here](http://www.mit.edu/~6.s085/notes/lecture3.pdf)\n"
      ],
      "id": "pharmaceutical-stopping"
    },
    {
      "cell_type": "markdown",
      "metadata": {
        "id": "ndQNKsjS7c04"
      },
      "source": [
        "## Grading = 10 Points"
      ],
      "id": "ndQNKsjS7c04"
    },
    {
      "cell_type": "markdown",
      "metadata": {
        "id": "IPn9hBEEEOnq"
      },
      "source": [
        "There are total 10 exercises and 1 point for each."
      ],
      "id": "IPn9hBEEEOnq"
    },
    {
      "cell_type": "markdown",
      "metadata": {
        "id": "powerful-preservation"
      },
      "source": [
        "##### Importing Necessary Packages"
      ],
      "id": "powerful-preservation"
    },
    {
      "cell_type": "code",
      "metadata": {
        "id": "confident-garlic"
      },
      "source": [
        "import numpy as np # Numpy Package\n",
        "import pandas as pd # Pandas Package"
      ],
      "id": "confident-garlic",
      "execution_count": null,
      "outputs": []
    },
    {
      "cell_type": "markdown",
      "metadata": {
        "id": "eleven-excess"
      },
      "source": [
        "#### Exercise 1: Generate 50 points with an approximate relationship of y = 3x + 1, with normally distributed errors.\n",
        "\n",
        "**Hint:** np.linspace(), np.random.randn()"
      ],
      "id": "eleven-excess"
    },
    {
      "cell_type": "code",
      "metadata": {
        "id": "serial-southeast"
      },
      "source": [
        "np.random.seed(0)\n",
        "numberofPoints = 50   # Number of data points\n",
        "x = np.linspace(0, 10, numberofPoints)\n",
        "y = x * 3 + 1 + 1 * np.random.randn(numberofPoints) # Standard deviation 1\n",
        "print(x) # Printing the x values\n",
        "print(y) # Printing the y values"
      ],
      "id": "serial-southeast",
      "execution_count": null,
      "outputs": []
    },
    {
      "cell_type": "markdown",
      "metadata": {
        "id": "robust-moderator"
      },
      "source": [
        "#### Exercise 2: Define a class named **LinearRegression** and add a short description of linear regression using built in method \\_\\_repr\\_\\_\n",
        "\n",
        "**Hint:** [How to use \\_\\_repr\\_\\_ method](https://www.educative.io/edpresso/what-is-the-repr-method-in-python)"
      ],
      "id": "robust-moderator"
    },
    {
      "cell_type": "code",
      "metadata": {
        "id": "brief-criminal"
      },
      "source": [
        "class LinearRegression:   \n",
        "    def __repr__(self):\n",
        "        return \"We are working on Linear Regression\""
      ],
      "id": "brief-criminal",
      "execution_count": null,
      "outputs": []
    },
    {
      "cell_type": "code",
      "metadata": {
        "id": "least-rebecca"
      },
      "source": [
        "type(LinearRegression) # Checking for the type"
      ],
      "id": "least-rebecca",
      "execution_count": null,
      "outputs": []
    },
    {
      "cell_type": "code",
      "metadata": {
        "id": "median-blame"
      },
      "source": [
        "help(LinearRegression) # Checking for the description of the class"
      ],
      "id": "median-blame",
      "execution_count": null,
      "outputs": []
    },
    {
      "cell_type": "code",
      "metadata": {
        "id": "hungry-german"
      },
      "source": [
        "LinearRegression() # Creating an instance of a class"
      ],
      "id": "hungry-german",
      "execution_count": null,
      "outputs": []
    },
    {
      "cell_type": "markdown",
      "metadata": {
        "id": "danish-fellowship"
      },
      "source": [
        "#### Exercise 3: In the above defined Linear Regression class, add a method which takes list of values as input and returns the mean of those values. \n",
        "\n",
        "**Note:** Don't use built-in method to calculate the mean\n",
        "\n",
        "**Hint:** \n",
        "1. The mean is the average of the numbers\n",
        "2. [How to define a method in a class](https://docs.python.org/3/tutorial/classes.html#scopes-and-namespaces-example)"
      ],
      "id": "danish-fellowship"
    },
    {
      "cell_type": "code",
      "metadata": {
        "id": "rural-expense"
      },
      "source": [
        "class LinearRegression:   \n",
        "    def __repr__(self):\n",
        "        return \"We are working on Linear Regression\"\n",
        "    # Function to calculate the mean\n",
        "    def getMean(self, values):\n",
        "        return sum(values) // len(values)"
      ],
      "id": "rural-expense",
      "execution_count": null,
      "outputs": []
    },
    {
      "cell_type": "code",
      "metadata": {
        "id": "banned-pulse"
      },
      "source": [
        "Lr = LinearRegression() # Instance of a LinearRegression class"
      ],
      "id": "banned-pulse",
      "execution_count": null,
      "outputs": []
    },
    {
      "cell_type": "code",
      "metadata": {
        "id": "solid-portrait"
      },
      "source": [
        "x_mean = Lr.getMean(x) # Accessing getMean method from the class"
      ],
      "id": "solid-portrait",
      "execution_count": null,
      "outputs": []
    },
    {
      "cell_type": "code",
      "metadata": {
        "id": "exceptional-cream"
      },
      "source": [
        "x_mean"
      ],
      "id": "exceptional-cream",
      "execution_count": null,
      "outputs": []
    },
    {
      "cell_type": "markdown",
      "metadata": {
        "id": "superior-sculpture"
      },
      "source": [
        "#### Exercise 4: In the above defined Linear Regression class, add a method which takes list of values as input and returns the variance of those values.\n",
        "\n",
        "**Note:** Don't use built-in method to calculate the variance\n",
        "\n",
        "**Hint:** \n",
        "\n",
        "1. The Variance is the average of the squared differences from the Mean\n",
        "2. [How to access one method in different method inside a class](https://docs.python.org/3/tutorial/classes.html#scopes-and-namespaces-example)\n"
      ],
      "id": "superior-sculpture"
    },
    {
      "cell_type": "code",
      "metadata": {
        "id": "initial-chinese"
      },
      "source": [
        "class LinearRegression:   \n",
        "    def __repr__(self):\n",
        "        return \"We are working on Linear Regression\"\n",
        "    # Function to calculate the mean\n",
        "    def getMean(self, values):\n",
        "        return sum(values) // len(values)\n",
        "    # Function to calculate the variance\n",
        "    def getVariance(self,values):\n",
        "        mean = self.getMean(values)\n",
        "        return sum([(x-mean)**2 for x in values])"
      ],
      "id": "initial-chinese",
      "execution_count": null,
      "outputs": []
    },
    {
      "cell_type": "code",
      "metadata": {
        "id": "possible-finish"
      },
      "source": [
        "Lr = LinearRegression() # Instance of a class LinearRegression"
      ],
      "id": "possible-finish",
      "execution_count": null,
      "outputs": []
    },
    {
      "cell_type": "code",
      "metadata": {
        "id": "billion-sunrise"
      },
      "source": [
        "Lr.getMean(x), Lr.getMean(y) # Accessing the getMean method"
      ],
      "id": "billion-sunrise",
      "execution_count": null,
      "outputs": []
    },
    {
      "cell_type": "code",
      "metadata": {
        "id": "military-accreditation"
      },
      "source": [
        "Lr.getVariance(x), Lr.getVariance(y) # Accessing the getVariance method"
      ],
      "id": "military-accreditation",
      "execution_count": null,
      "outputs": []
    },
    {
      "cell_type": "markdown",
      "metadata": {
        "id": "loving-uncle"
      },
      "source": [
        "#### Exercise 5: In the above defined Linear Regression class, add a method which takes two values as input and returns the covariance of those values.\n",
        "\n",
        "**Note:** Don't use built-in method to calculate the covariance\n",
        "\n",
        "**Hint:** [How to calculate the covariance of two values](https://www.statisticshowto.com/probability-and-statistics/statistics-definitions/covariance/)"
      ],
      "id": "loving-uncle"
    },
    {
      "cell_type": "code",
      "metadata": {
        "id": "russian-armor"
      },
      "source": [
        "class LinearRegression:   \n",
        "    def __repr__(self):\n",
        "        return \"We are working on Linear Regression\"\n",
        "    # Function to calculate the mean\n",
        "    def getMean(self, values):\n",
        "        return sum(values) // len(values)\n",
        "    # Function to calculate the variance\n",
        "    def getVariance(self,values):\n",
        "        mean = self.getMean(values)\n",
        "        return sum([(x-mean)**2 for x in values])\n",
        "    # Function to calculate the covariance\n",
        "    def getcovariance(self, x, y):\n",
        "        xmean = self.getMean(x) # Mean of x values\n",
        "        ymean = self.getMean(y) # Mean of y values\n",
        "        covar = 0.0\n",
        "        for i in range(len(x)):\n",
        "            covar += (x[i] - xmean) * (y[i] - ymean)\n",
        "        return covar"
      ],
      "id": "russian-armor",
      "execution_count": null,
      "outputs": []
    },
    {
      "cell_type": "code",
      "metadata": {
        "id": "lesser-somewhere"
      },
      "source": [
        "Lr = LinearRegression() # Creating a instance of a class LinearRegression"
      ],
      "id": "lesser-somewhere",
      "execution_count": null,
      "outputs": []
    },
    {
      "cell_type": "code",
      "metadata": {
        "id": "lyric-journey"
      },
      "source": [
        "Lr.getcovariance(x,y) # Accessing the getcovariance method "
      ],
      "id": "lyric-journey",
      "execution_count": null,
      "outputs": []
    },
    {
      "cell_type": "markdown",
      "metadata": {
        "id": "devoted-premiere"
      },
      "source": [
        "#### Exercise 6: In the above defined Linear Regression class, add a method named 'fit' which takes two values as input (x, y) and returns the estimated coefficients.\n",
        "\n",
        "**Hint:**\n",
        "\n",
        "- Equation of line : $  y = b_{0} + b_{1} * x $\n",
        "- The estimated coefficients i.e. values of $b_{0}$ and $b_{1}$ are calculated as below\n",
        "    - $ b_{1} = covariance(x,y) / variance(x) $ and\n",
        "    - $ b_{0} = mean(y) - b_{1} * mean(x)$\n",
        "\n",
        "\n"
      ],
      "id": "devoted-premiere"
    },
    {
      "cell_type": "code",
      "metadata": {
        "id": "accomplished-trance"
      },
      "source": [
        "class LinearRegression:   \n",
        "    def __repr__(self):\n",
        "        return \"We are working on Linear Regression\"\n",
        "    # Function to calculate the mean\n",
        "    def getMean(self, values):\n",
        "        return sum(values) // len(values)\n",
        "    # Function to calculate the variance\n",
        "    def getVariance(self,values):\n",
        "        mean = self.getMean(values)\n",
        "        return sum([(x-mean)**2 for x in values])\n",
        "    # Function to calculate the covariance\n",
        "    def getcovariance(self, x, y):\n",
        "        xmean = self.getMean(x)\n",
        "        ymean = self.getMean(y)\n",
        "        covar = 0.0\n",
        "        for i in range(len(x)):\n",
        "            covar += (x[i] - xmean)*(y[i] - ymean)\n",
        "        return covar\n",
        "    # Function to calculate the estimated coefficients\n",
        "    def fit(self,x,y):\n",
        "        # Calculating mean of x and y\n",
        "        mean_x, mean_y = self.getMean(x), self.getMean(y)\n",
        "        # Calculating covariance between x and y and finding the b1 value\n",
        "        b1 = self.getcovariance(x, y) / self.getVariance(x)\n",
        "        # finding b0 value\n",
        "        b0 = mean_y - b1 * mean_x\n",
        "        # returning the estimated coefficients\n",
        "        return [b0, b1]"
      ],
      "id": "accomplished-trance",
      "execution_count": null,
      "outputs": []
    },
    {
      "cell_type": "code",
      "metadata": {
        "id": "silent-glossary"
      },
      "source": [
        "Lr = LinearRegression() # Instance of a Linear Regression class"
      ],
      "id": "silent-glossary",
      "execution_count": null,
      "outputs": []
    },
    {
      "cell_type": "code",
      "metadata": {
        "id": "together-charter"
      },
      "source": [
        "Lr.fit(x,y) # Accessing the fit method defined in the LinearRegression class"
      ],
      "id": "together-charter",
      "execution_count": null,
      "outputs": []
    },
    {
      "cell_type": "markdown",
      "metadata": {
        "id": "lesbian-actress"
      },
      "source": [
        "#### Exercise 7: In the above defined Linear Regression class, add a method named predict which takes two values as input (x, y) and returns the predicted values.\n",
        "\n",
        "**Hint:** substitute the estimated coefficients values calculated above in the equation of line i.e $  y = b_{0} + b_{1} * x $"
      ],
      "id": "lesbian-actress"
    },
    {
      "cell_type": "code",
      "metadata": {
        "id": "invalid-restoration"
      },
      "source": [
        "class LinearRegression:   \n",
        "    def __repr__(self):\n",
        "        return \"We are working on Linear Regression\"\n",
        "    # Function to calculate the mean\n",
        "    def getMean(self, values):\n",
        "        return sum(values) // len(values)\n",
        "    # Function to calculate the variance\n",
        "    def getVariance(self,values):\n",
        "        mean = self.getMean(values)\n",
        "        return sum([(x-mean)**2 for x in values])\n",
        "    # Function to calculate the covariance\n",
        "    def getcovariance(self, x, y):\n",
        "        xmean = self.getMean(x)\n",
        "        ymean = self.getMean(y)\n",
        "        covar = 0.0\n",
        "        for i in range(len(x)):\n",
        "            covar += (x[i] - xmean)*(y[i] - ymean)\n",
        "        return covar\n",
        "    # Function to calculate the estimated coefficients\n",
        "    def fit(self,x,y):\n",
        "        # Calculating mean of x and y\n",
        "        mean_x, mean_y = self.getMean(x), self.getMean(y)\n",
        "        # Calculating covariance between x and y and finding the b1 value\n",
        "        b1 = self.getcovariance(x, y) / self.getVariance(x)\n",
        "        # finding b0 value\n",
        "        b0 = mean_y - b1 * mean_x\n",
        "        # returning the estimated coefficients\n",
        "        return [b0, b1]\n",
        "    def predict(self, x, y):\n",
        "        predictions = [] # Defining a empty list to store prediction values\n",
        "        b0, b1 = self.fit(x, y) # Calculating the estimated coeffients\n",
        "        for row in x: # Iterating over x values\n",
        "            ynew = b0 + b1 * row # Calculating y values\n",
        "            predictions.append(ynew)\n",
        "        return predictions"
      ],
      "id": "invalid-restoration",
      "execution_count": null,
      "outputs": []
    },
    {
      "cell_type": "code",
      "metadata": {
        "id": "corporate-virginia"
      },
      "source": [
        "Lr = LinearRegression() # Instance of the class"
      ],
      "id": "corporate-virginia",
      "execution_count": null,
      "outputs": []
    },
    {
      "cell_type": "code",
      "metadata": {
        "id": "dressed-insert"
      },
      "source": [
        "Lr.predict(x,y) # Predicitng the values"
      ],
      "id": "dressed-insert",
      "execution_count": null,
      "outputs": []
    },
    {
      "cell_type": "markdown",
      "metadata": {
        "id": "selected-assets"
      },
      "source": [
        "#### Data\n",
        "\n",
        "The dataset choosen for this experiment is **Pizza Franchise** dataset. The dataset contains following data\n",
        "\n",
        "X = annual franchise fee ($1000)\n",
        "\n",
        "Y = start up cost ($1000) for a pizza franchise\n",
        "\n",
        "Download the dataset [here](https://cdn.iisc.talentsprint.com/CDS/Datasets/pizza.csv)"
      ],
      "id": "selected-assets"
    },
    {
      "cell_type": "markdown",
      "metadata": {
        "id": "interior-pregnancy"
      },
      "source": [
        "#### Exercise 8: Using the above defined class LinearRegression, calculate the Estimated coeffients, fit the model, and predict the values on the Pizza Franchise dataset."
      ],
      "id": "interior-pregnancy"
    },
    {
      "cell_type": "code",
      "metadata": {
        "id": "WFrvzbb0vtAR"
      },
      "source": [
        "!wget -qq https://cdn.iisc.talentsprint.com/CDS/Datasets/pizza.csv"
      ],
      "id": "WFrvzbb0vtAR",
      "execution_count": null,
      "outputs": []
    },
    {
      "cell_type": "code",
      "metadata": {
        "id": "human-novel"
      },
      "source": [
        "import pandas as pd # Importing pandas package\n",
        "df = pd.read_csv(\"pizza.csv\") # Loading pizza dataset"
      ],
      "id": "human-novel",
      "execution_count": null,
      "outputs": []
    },
    {
      "cell_type": "code",
      "metadata": {
        "id": "exceptional-steel"
      },
      "source": [
        "df.head() # Checking for the first five rows from the dataset"
      ],
      "id": "exceptional-steel",
      "execution_count": null,
      "outputs": []
    },
    {
      "cell_type": "code",
      "metadata": {
        "id": "floating-variation"
      },
      "source": [
        "Lr = LinearRegression()  # Instance of a class LinearRegression"
      ],
      "id": "floating-variation",
      "execution_count": null,
      "outputs": []
    },
    {
      "cell_type": "code",
      "metadata": {
        "id": "common-cigarette"
      },
      "source": [
        "Lr.fit(df['X'], df['Y']) # Fitting the values"
      ],
      "id": "common-cigarette",
      "execution_count": null,
      "outputs": []
    },
    {
      "cell_type": "code",
      "metadata": {
        "id": "based-integrity"
      },
      "source": [
        "Predicted_values = Lr.predict(df['X'], df['Y']) # Predicting the values"
      ],
      "id": "based-integrity",
      "execution_count": null,
      "outputs": []
    },
    {
      "cell_type": "code",
      "metadata": {
        "id": "electoral-reputation"
      },
      "source": [
        "Predicted_values"
      ],
      "id": "electoral-reputation",
      "execution_count": null,
      "outputs": []
    },
    {
      "cell_type": "markdown",
      "metadata": {
        "id": "serial-shame"
      },
      "source": [
        "#### Exercise 9: In the above defined Linear Regression class, add a method named RMSE which takes two values as input (x, y) and returns the error value.\n",
        "\n",
        "**Hint:**\n",
        "\n",
        "- [How to calculate RMSE value](https://towardsdatascience.com/what-does-rmse-really-mean-806b65f2e48e)"
      ],
      "id": "serial-shame"
    },
    {
      "cell_type": "code",
      "metadata": {
        "id": "integrated-diversity"
      },
      "source": [
        "from math import sqrt\n",
        "class LinearRegression:   \n",
        "    def __repr__(self):\n",
        "        return \"We are working on Linear Regression\"\n",
        "    # Function to calculate the mean\n",
        "    def getMean(self, values):\n",
        "        return sum(values) // len(values)\n",
        "    # Function to calculate the variance\n",
        "    def getVariance(self,values):\n",
        "        mean = self.getMean(values)\n",
        "        return sum([(x-mean)**2 for x in values])\n",
        "    # Function to calculate the covariance\n",
        "    def getcovariance(self, x, y):\n",
        "        xmean = self.getMean(x)\n",
        "        ymean = self.getMean(y)\n",
        "        covar = 0.0\n",
        "        for i in range(len(x)):\n",
        "            covar += (x[i] - xmean)*(y[i] - ymean)\n",
        "        return covar\n",
        "    # Function to calculate the estimated coefficients\n",
        "    def fit(self,x,y):\n",
        "        # Calculating mean of x and y\n",
        "        mean_x, mean_y = self.getMean(x), self.getMean(y)\n",
        "        # Calculating covariance between x and y and finding the b1 value\n",
        "        b1 = self.getcovariance(x, y) / self.getVariance(x)\n",
        "        # finding b0 value\n",
        "        b0 = mean_y - b1 * mean_x\n",
        "        # returning the estimated coefficients\n",
        "        return [b0, b1]\n",
        "    def predict(self, x, y):\n",
        "        predictions = [] # Defining a empty list to store prediction values\n",
        "        b0, b1 = self.fit(x, y) # Calculating the estimated coeffients\n",
        "        for row in x: # Iterating over x values\n",
        "            ynew = b0 + b1 * row # Calculating y values\n",
        "            predictions.append(ynew)\n",
        "        return predictions\n",
        "    # Function to calculate RMSE Value\n",
        "    def rmse(self, actual, predicted):\n",
        "        sum_err = 0.0\n",
        "        for i in range(len(actual)):\n",
        "            pred_err = predicted[i] - actual[i]\n",
        "            sum_err += pred_err ** 2\n",
        "        mean_err = sum_err / float(len(actual))\n",
        "        return sqrt(mean_err)"
      ],
      "id": "integrated-diversity",
      "execution_count": null,
      "outputs": []
    },
    {
      "cell_type": "markdown",
      "metadata": {
        "id": "ruled-limit"
      },
      "source": [
        "#### Data\n",
        "\n",
        "The dataset choosen for this exercise is **List Price Vs. Best Price for a New GMC Pickup** dataset. The dataset contains following data\n",
        "\n",
        "X = List price (in $1000) for a GMC pickup truck\n",
        "\n",
        "Y = Best price (in $1000) for a GMC pickup truck\n",
        "\n",
        "Download the dataset [here](https://cdn.iisc.talentsprint.com/CDS/Datasets/gmc.csv)"
      ],
      "id": "ruled-limit"
    },
    {
      "cell_type": "markdown",
      "metadata": {
        "id": "mounted-armstrong"
      },
      "source": [
        "#### Exercise 10: Using above defined class LinearRegression, \n",
        "\n",
        "- calculate the Estimated coeffients, fit the model, and predict the values on the List Price Vs. Best Price for a New GMC Pickup dataset.\n",
        "- calculate the RMSE error on predicted and actual values of List Price Vs. Best Price for a New GMC Pickup dataset using the function defined above."
      ],
      "id": "mounted-armstrong"
    },
    {
      "cell_type": "code",
      "metadata": {
        "id": "mVC742UavzHY"
      },
      "source": [
        "!wget -qq https://cdn.iisc.talentsprint.com/CDS/Datasets/gmc.csv"
      ],
      "id": "mVC742UavzHY",
      "execution_count": null,
      "outputs": []
    },
    {
      "cell_type": "code",
      "metadata": {
        "id": "faced-lottery"
      },
      "source": [
        "data = pd.read_csv(\"gmc.csv\") # Loading the dataset"
      ],
      "id": "faced-lottery",
      "execution_count": null,
      "outputs": []
    },
    {
      "cell_type": "code",
      "metadata": {
        "id": "difficult-blind"
      },
      "source": [
        "data.head() # Checking for the top five rows"
      ],
      "id": "difficult-blind",
      "execution_count": null,
      "outputs": []
    },
    {
      "cell_type": "code",
      "metadata": {
        "id": "tribal-dublin"
      },
      "source": [
        "Lr = LinearRegression() # Instance of a class"
      ],
      "id": "tribal-dublin",
      "execution_count": null,
      "outputs": []
    },
    {
      "cell_type": "code",
      "metadata": {
        "id": "reflected-convenience"
      },
      "source": [
        "Lr.fit(data['X'], data['Y']) # Fitting the data"
      ],
      "id": "reflected-convenience",
      "execution_count": null,
      "outputs": []
    },
    {
      "cell_type": "code",
      "metadata": {
        "id": "imposed-manner"
      },
      "source": [
        "Predicted_values = Lr.predict(data['X'], data['Y']) # Predicting the values"
      ],
      "id": "imposed-manner",
      "execution_count": null,
      "outputs": []
    },
    {
      "cell_type": "code",
      "metadata": {
        "id": "hundred-range"
      },
      "source": [
        "Lr.rmse(data['Y'], Predicted_values) # Calculating rmse value"
      ],
      "id": "hundred-range",
      "execution_count": null,
      "outputs": []
    },
    {
      "cell_type": "markdown",
      "metadata": {
        "id": "2UTnd_TqXlX6"
      },
      "source": [
        "### Optional"
      ],
      "id": "2UTnd_TqXlX6"
    },
    {
      "cell_type": "markdown",
      "metadata": {
        "id": "wEH3vrQPXoa9"
      },
      "source": [
        "* Use the built-in `sklearn LinearRegression` package to determine the coefficients for the above problems. \n",
        "* Compare the coefficients obtained using OOP based implementation vs coefficients from `sklearn LinearRegression` package."
      ],
      "id": "wEH3vrQPXoa9"
    }
  ]
}