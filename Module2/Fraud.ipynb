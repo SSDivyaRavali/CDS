{
  "nbformat": 4,
  "nbformat_minor": 0,
  "metadata": {
    "colab": {
      "name": "Fraud.ipynb",
      "provenance": [],
      "collapsed_sections": [],
      "mount_file_id": "1PWjJo2iLRmVXfIBORVF0pLkxbA6znoK8",
      "authorship_tag": "ABX9TyN13cN2F/BcZaVcOeaiARqL",
      "include_colab_link": true
    },
    "kernelspec": {
      "name": "python3",
      "display_name": "Python 3"
    },
    "language_info": {
      "name": "python"
    },
    "widgets": {
      "application/vnd.jupyter.widget-state+json": {
        "7aae010ab8d14f62be2610b65095f368": {
          "model_module": "catboost-widget",
          "model_name": "CatboostWidgetModel",
          "model_module_version": "^1.0.0",
          "state": {
            "_view_name": "CatboostWidgetView",
            "_dom_classes": [],
            "_model_name": "CatboostWidgetModel",
            "data": {
              "catboost_info": {
                "content": {
                  "data": {
                    "meta": {
                      "name": "experiment",
                      "parameters": "",
                      "test_metrics": [
                        {
                          "best_value": "Max",
                          "name": "AUC"
                        },
                        {
                          "best_value": "Min",
                          "name": "Logloss"
                        }
                      ],
                      "learn_sets": [
                        "learn"
                      ],
                      "launch_mode": "Train",
                      "learn_metrics": [
                        {
                          "best_value": "Min",
                          "name": "Logloss"
                        }
                      ],
                      "iteration_count": 500,
                      "test_sets": [
                        "test"
                      ]
                    },
                    "iterations": [
                      {
                        "test": [
                          0.9632072175,
                          0.6126943941
                        ],
                        "passed_time": 8.290302297,
                        "iteration": 0,
                        "remaining_time": 4136.860846,
                        "learn": [
                          0.612645688
                        ]
                      },
                      {
                        "test": [
                          0.9989079496,
                          0.02728296714
                        ],
                        "passed_time": 103.5809156,
                        "iteration": 20,
                        "remaining_time": 2362.631361,
                        "learn": [
                          0.02728887343
                        ]
                      },
                      {
                        "test": [
                          0.9990063512,
                          0.002575767592
                        ],
                        "passed_time": 184.2341296,
                        "iteration": 40,
                        "remaining_time": 2062.523549,
                        "learn": [
                          0.002581172633
                        ]
                      },
                      {
                        "test": [
                          0.9990546659,
                          0.0005876312684
                        ],
                        "passed_time": 251.7394845,
                        "iteration": 60,
                        "remaining_time": 1811.698913,
                        "learn": [
                          0.000587380055
                        ]
                      },
                      {
                        "test": [
                          0.9990300712,
                          0.0002674187778
                        ],
                        "passed_time": 318.993848,
                        "iteration": 80,
                        "remaining_time": 1650.103979,
                        "learn": [
                          0.0002635221484
                        ]
                      }
                    ]
                  },
                  "total_iterations": 500,
                  "passed_iterations": 80
                },
                "path": "catboost_info",
                "name": "catboost_info"
              }
            },
            "_view_module": "catboost-widget",
            "_model_module_version": "^1.0.0",
            "_view_count": null,
            "_view_module_version": "^1.0.0",
            "layout": "IPY_MODEL_77aad9d95e89490d9e4487e4fb30265d",
            "_model_module": "catboost-widget"
          }
        },
        "1e1e67a42b9c4da09dcc4da1da87dffa": {
          "model_module": "catboost-widget",
          "model_name": "CatboostWidgetModel",
          "model_module_version": "^1.0.0",
          "state": {
            "_view_name": "CatboostWidgetView",
            "_dom_classes": [],
            "_model_name": "CatboostWidgetModel",
            "data": {
              "catboost_info": {
                "content": {
                  "data": {
                    "meta": {
                      "name": "experiment",
                      "parameters": "",
                      "test_metrics": [
                        {
                          "best_value": "Max",
                          "name": "AUC"
                        },
                        {
                          "best_value": "Min",
                          "name": "Logloss"
                        }
                      ],
                      "learn_sets": [
                        "learn"
                      ],
                      "launch_mode": "Train",
                      "learn_metrics": [
                        {
                          "best_value": "Min",
                          "name": "Logloss"
                        }
                      ],
                      "iteration_count": 500,
                      "test_sets": [
                        "test"
                      ]
                    },
                    "iterations": [
                      {
                        "test": [
                          0.9984522486,
                          0.6386260611
                        ],
                        "passed_time": 0.4474080344,
                        "iteration": 0,
                        "remaining_time": 223.2566092,
                        "learn": [
                          0.6383696884
                        ]
                      },
                      {
                        "test": [
                          0.9992379788,
                          0.1267402887
                        ],
                        "passed_time": 5.092479622,
                        "iteration": 20,
                        "remaining_time": 116.1570352,
                        "learn": [
                          0.1261096746
                        ]
                      },
                      {
                        "test": [
                          0.9992824331,
                          0.03914546955
                        ],
                        "passed_time": 9.664384461,
                        "iteration": 40,
                        "remaining_time": 108.1939626,
                        "learn": [
                          0.0393853741
                        ]
                      },
                      {
                        "test": [
                          0.9994187597,
                          0.01857401848
                        ],
                        "passed_time": 17.84018499,
                        "iteration": 60,
                        "remaining_time": 128.3908395,
                        "learn": [
                          0.01900678902
                        ]
                      },
                      {
                        "test": [
                          0.9994561754,
                          0.01215767398
                        ],
                        "passed_time": 23.84172157,
                        "iteration": 80,
                        "remaining_time": 123.3293992,
                        "learn": [
                          0.01228511544
                        ]
                      },
                      {
                        "test": [
                          0.9995124843,
                          0.009630889754
                        ],
                        "passed_time": 30.30068897,
                        "iteration": 100,
                        "remaining_time": 119.7027218,
                        "learn": [
                          0.00937179584
                        ]
                      },
                      {
                        "test": [
                          0.9994395051,
                          0.008601192836
                        ],
                        "passed_time": 38.31215919,
                        "iteration": 120,
                        "remaining_time": 120.0025482,
                        "learn": [
                          0.007871427979
                        ]
                      }
                    ]
                  },
                  "total_iterations": 500,
                  "passed_iterations": 120
                },
                "path": "catboost_info",
                "name": "catboost_info"
              }
            },
            "_view_module": "catboost-widget",
            "_model_module_version": "^1.0.0",
            "_view_count": null,
            "_view_module_version": "^1.0.0",
            "layout": "IPY_MODEL_c7866c780a8c46f090ee562f420b97f0",
            "_model_module": "catboost-widget"
          }
        }
      }
    }
  },
  "cells": [
    {
      "cell_type": "markdown",
      "metadata": {
        "id": "view-in-github",
        "colab_type": "text"
      },
      "source": [
        "<a href=\"https://colab.research.google.com/github/SSDivyaRavali/CDS/blob/main/Module2/Fraud.ipynb\" target=\"_parent\"><img src=\"https://colab.research.google.com/assets/colab-badge.svg\" alt=\"Open In Colab\"/></a>"
      ]
    },
    {
      "cell_type": "code",
      "source": [
        "import pandas as pd\n",
        "import numpy as np\n",
        "from sklearn.model_selection import train_test_split\n",
        "from sklearn.linear_model import LogisticRegression\n",
        "from sklearn import metrics\n",
        "import seaborn as sns\n",
        "from matplotlib import pyplot as plt\n",
        "import math\n",
        "#from xverse.transformer import MonotonicBinning,WOE\n",
        "%matplotlib inline\n",
        "import warnings\n",
        "warnings.filterwarnings('ignore') #To ignore the warning"
      ],
      "metadata": {
        "id": "Q0UAE7P8L8-2"
      },
      "execution_count": null,
      "outputs": []
    },
    {
      "cell_type": "code",
      "source": [
        "#to make notebook run stable across runs\n",
        "np.random.seed(45)\n",
        "#multiple cell outputs\n",
        "from IPython.core.interactiveshell import InteractiveShell\n",
        "InteractiveShell.ast_node_interactivity = \"all\""
      ],
      "metadata": {
        "id": "76YBYqhVMVXM"
      },
      "execution_count": null,
      "outputs": []
    },
    {
      "cell_type": "code",
      "source": [
        "#Load data\n",
        "def load_data(Filepath):\n",
        "  data = pd.read_csv(\n",
        "    Filepath,      # relative python path to subdirectory\n",
        "    sep=',',           # Comma-separated value file.\n",
        "    encoding='utf8',        # encoding\n",
        "    header=0,                  # specify a row as header\n",
        "    #usecols=[1,2,3,4,5,6,7,8,9,10,11],   # Only load the  columns specified.\n",
        "    #dtype={\"age\": int,\"NumberOfTime30-59DaysPastDueNotWorse\":int,\"NumberOfOpenCreditLinesAndLoans\":int,\"NumberOfTimes90DaysLate\":int},             # Parse the agecolumn as an integer     \n",
        "    parse_dates=True,     # Intepret the date column as a date\n",
        "    skiprows=None,         # Skip the first few rows of the file\n",
        "    na_values=['.', 'na','NA','NAN','NaN']       # Take any '.' or 'na' values as NA\n",
        "    )\n",
        "  return data\n",
        "\n",
        "Filepath='/content/drive/MyDrive/Projects/Fraud/Fraud.csv'\n",
        "df=load_data(Filepath)\n",
        "df.head()"
      ],
      "metadata": {
        "colab": {
          "base_uri": "https://localhost:8080/",
          "height": 206
        },
        "id": "giqjQ2f6Mc_u",
        "outputId": "152184ad-2a67-4831-bcd3-d0dc087ea073"
      },
      "execution_count": null,
      "outputs": [
        {
          "output_type": "execute_result",
          "data": {
            "text/html": [
              "\n",
              "  <div id=\"df-de2b61f8-4df5-494f-ad65-6b04cf56edf4\">\n",
              "    <div class=\"colab-df-container\">\n",
              "      <div>\n",
              "<style scoped>\n",
              "    .dataframe tbody tr th:only-of-type {\n",
              "        vertical-align: middle;\n",
              "    }\n",
              "\n",
              "    .dataframe tbody tr th {\n",
              "        vertical-align: top;\n",
              "    }\n",
              "\n",
              "    .dataframe thead th {\n",
              "        text-align: right;\n",
              "    }\n",
              "</style>\n",
              "<table border=\"1\" class=\"dataframe\">\n",
              "  <thead>\n",
              "    <tr style=\"text-align: right;\">\n",
              "      <th></th>\n",
              "      <th>step</th>\n",
              "      <th>type</th>\n",
              "      <th>amount</th>\n",
              "      <th>nameOrig</th>\n",
              "      <th>oldbalanceOrg</th>\n",
              "      <th>newbalanceOrig</th>\n",
              "      <th>nameDest</th>\n",
              "      <th>oldbalanceDest</th>\n",
              "      <th>newbalanceDest</th>\n",
              "      <th>isFraud</th>\n",
              "      <th>isFlaggedFraud</th>\n",
              "    </tr>\n",
              "  </thead>\n",
              "  <tbody>\n",
              "    <tr>\n",
              "      <th>0</th>\n",
              "      <td>1</td>\n",
              "      <td>PAYMENT</td>\n",
              "      <td>9839.64</td>\n",
              "      <td>C1231006815</td>\n",
              "      <td>170136.0</td>\n",
              "      <td>160296.36</td>\n",
              "      <td>M1979787155</td>\n",
              "      <td>0.0</td>\n",
              "      <td>0.0</td>\n",
              "      <td>0</td>\n",
              "      <td>0</td>\n",
              "    </tr>\n",
              "    <tr>\n",
              "      <th>1</th>\n",
              "      <td>1</td>\n",
              "      <td>PAYMENT</td>\n",
              "      <td>1864.28</td>\n",
              "      <td>C1666544295</td>\n",
              "      <td>21249.0</td>\n",
              "      <td>19384.72</td>\n",
              "      <td>M2044282225</td>\n",
              "      <td>0.0</td>\n",
              "      <td>0.0</td>\n",
              "      <td>0</td>\n",
              "      <td>0</td>\n",
              "    </tr>\n",
              "    <tr>\n",
              "      <th>2</th>\n",
              "      <td>1</td>\n",
              "      <td>TRANSFER</td>\n",
              "      <td>181.00</td>\n",
              "      <td>C1305486145</td>\n",
              "      <td>181.0</td>\n",
              "      <td>0.00</td>\n",
              "      <td>C553264065</td>\n",
              "      <td>0.0</td>\n",
              "      <td>0.0</td>\n",
              "      <td>1</td>\n",
              "      <td>0</td>\n",
              "    </tr>\n",
              "    <tr>\n",
              "      <th>3</th>\n",
              "      <td>1</td>\n",
              "      <td>CASH_OUT</td>\n",
              "      <td>181.00</td>\n",
              "      <td>C840083671</td>\n",
              "      <td>181.0</td>\n",
              "      <td>0.00</td>\n",
              "      <td>C38997010</td>\n",
              "      <td>21182.0</td>\n",
              "      <td>0.0</td>\n",
              "      <td>1</td>\n",
              "      <td>0</td>\n",
              "    </tr>\n",
              "    <tr>\n",
              "      <th>4</th>\n",
              "      <td>1</td>\n",
              "      <td>PAYMENT</td>\n",
              "      <td>11668.14</td>\n",
              "      <td>C2048537720</td>\n",
              "      <td>41554.0</td>\n",
              "      <td>29885.86</td>\n",
              "      <td>M1230701703</td>\n",
              "      <td>0.0</td>\n",
              "      <td>0.0</td>\n",
              "      <td>0</td>\n",
              "      <td>0</td>\n",
              "    </tr>\n",
              "  </tbody>\n",
              "</table>\n",
              "</div>\n",
              "      <button class=\"colab-df-convert\" onclick=\"convertToInteractive('df-de2b61f8-4df5-494f-ad65-6b04cf56edf4')\"\n",
              "              title=\"Convert this dataframe to an interactive table.\"\n",
              "              style=\"display:none;\">\n",
              "        \n",
              "  <svg xmlns=\"http://www.w3.org/2000/svg\" height=\"24px\"viewBox=\"0 0 24 24\"\n",
              "       width=\"24px\">\n",
              "    <path d=\"M0 0h24v24H0V0z\" fill=\"none\"/>\n",
              "    <path d=\"M18.56 5.44l.94 2.06.94-2.06 2.06-.94-2.06-.94-.94-2.06-.94 2.06-2.06.94zm-11 1L8.5 8.5l.94-2.06 2.06-.94-2.06-.94L8.5 2.5l-.94 2.06-2.06.94zm10 10l.94 2.06.94-2.06 2.06-.94-2.06-.94-.94-2.06-.94 2.06-2.06.94z\"/><path d=\"M17.41 7.96l-1.37-1.37c-.4-.4-.92-.59-1.43-.59-.52 0-1.04.2-1.43.59L10.3 9.45l-7.72 7.72c-.78.78-.78 2.05 0 2.83L4 21.41c.39.39.9.59 1.41.59.51 0 1.02-.2 1.41-.59l7.78-7.78 2.81-2.81c.8-.78.8-2.07 0-2.86zM5.41 20L4 18.59l7.72-7.72 1.47 1.35L5.41 20z\"/>\n",
              "  </svg>\n",
              "      </button>\n",
              "      \n",
              "  <style>\n",
              "    .colab-df-container {\n",
              "      display:flex;\n",
              "      flex-wrap:wrap;\n",
              "      gap: 12px;\n",
              "    }\n",
              "\n",
              "    .colab-df-convert {\n",
              "      background-color: #E8F0FE;\n",
              "      border: none;\n",
              "      border-radius: 50%;\n",
              "      cursor: pointer;\n",
              "      display: none;\n",
              "      fill: #1967D2;\n",
              "      height: 32px;\n",
              "      padding: 0 0 0 0;\n",
              "      width: 32px;\n",
              "    }\n",
              "\n",
              "    .colab-df-convert:hover {\n",
              "      background-color: #E2EBFA;\n",
              "      box-shadow: 0px 1px 2px rgba(60, 64, 67, 0.3), 0px 1px 3px 1px rgba(60, 64, 67, 0.15);\n",
              "      fill: #174EA6;\n",
              "    }\n",
              "\n",
              "    [theme=dark] .colab-df-convert {\n",
              "      background-color: #3B4455;\n",
              "      fill: #D2E3FC;\n",
              "    }\n",
              "\n",
              "    [theme=dark] .colab-df-convert:hover {\n",
              "      background-color: #434B5C;\n",
              "      box-shadow: 0px 1px 3px 1px rgba(0, 0, 0, 0.15);\n",
              "      filter: drop-shadow(0px 1px 2px rgba(0, 0, 0, 0.3));\n",
              "      fill: #FFFFFF;\n",
              "    }\n",
              "  </style>\n",
              "\n",
              "      <script>\n",
              "        const buttonEl =\n",
              "          document.querySelector('#df-de2b61f8-4df5-494f-ad65-6b04cf56edf4 button.colab-df-convert');\n",
              "        buttonEl.style.display =\n",
              "          google.colab.kernel.accessAllowed ? 'block' : 'none';\n",
              "\n",
              "        async function convertToInteractive(key) {\n",
              "          const element = document.querySelector('#df-de2b61f8-4df5-494f-ad65-6b04cf56edf4');\n",
              "          const dataTable =\n",
              "            await google.colab.kernel.invokeFunction('convertToInteractive',\n",
              "                                                     [key], {});\n",
              "          if (!dataTable) return;\n",
              "\n",
              "          const docLinkHtml = 'Like what you see? Visit the ' +\n",
              "            '<a target=\"_blank\" href=https://colab.research.google.com/notebooks/data_table.ipynb>data table notebook</a>'\n",
              "            + ' to learn more about interactive tables.';\n",
              "          element.innerHTML = '';\n",
              "          dataTable['output_type'] = 'display_data';\n",
              "          await google.colab.output.renderOutput(dataTable, element);\n",
              "          const docLink = document.createElement('div');\n",
              "          docLink.innerHTML = docLinkHtml;\n",
              "          element.appendChild(docLink);\n",
              "        }\n",
              "      </script>\n",
              "    </div>\n",
              "  </div>\n",
              "  "
            ],
            "text/plain": [
              "   step      type    amount  ... newbalanceDest  isFraud  isFlaggedFraud\n",
              "0     1   PAYMENT   9839.64  ...            0.0        0               0\n",
              "1     1   PAYMENT   1864.28  ...            0.0        0               0\n",
              "2     1  TRANSFER    181.00  ...            0.0        1               0\n",
              "3     1  CASH_OUT    181.00  ...            0.0        1               0\n",
              "4     1   PAYMENT  11668.14  ...            0.0        0               0\n",
              "\n",
              "[5 rows x 11 columns]"
            ]
          },
          "metadata": {},
          "execution_count": 3
        }
      ]
    },
    {
      "cell_type": "code",
      "source": [
        "#data exploration\n",
        "def explore_data(df):\n",
        "    print(f\"First 5 rows : \\n {df.head()} \\n\")\n",
        "    print(f\"Shape : \\n {df.shape} \\n\")\n",
        "    print(f\"Columns : \\n {df.columns} \\n\")\n",
        "    print(f\"Data types : \\n {df.dtypes}\\n\")\n",
        "    print(f\"Summary of data : \\n {df.describe()} \\n\")\n",
        "    print(f\"data info :\\n{df.info()}\\n\")\n",
        "    print(f\"Null objects in each column :\\n{df.isnull().sum()}\\n\")\n",
        "    print(f\"Duplicate rows in data :\\n{np.any(df.duplicated())}\\n\")\n",
        "\n",
        "  \n",
        "explore_data(df)"
      ],
      "metadata": {
        "colab": {
          "base_uri": "https://localhost:8080/"
        },
        "id": "Da-43DBkNE7X",
        "outputId": "fb4297aa-720b-45f5-e5c2-dc0a3516a808"
      },
      "execution_count": null,
      "outputs": [
        {
          "output_type": "stream",
          "name": "stdout",
          "text": [
            "First 5 rows : \n",
            "    step      type    amount  ... newbalanceDest  isFraud  isFlaggedFraud\n",
            "0     1   PAYMENT   9839.64  ...            0.0        0               0\n",
            "1     1   PAYMENT   1864.28  ...            0.0        0               0\n",
            "2     1  TRANSFER    181.00  ...            0.0        1               0\n",
            "3     1  CASH_OUT    181.00  ...            0.0        1               0\n",
            "4     1   PAYMENT  11668.14  ...            0.0        0               0\n",
            "\n",
            "[5 rows x 11 columns] \n",
            "\n",
            "Shape : \n",
            " (6362620, 11) \n",
            "\n",
            "Columns : \n",
            " Index(['step', 'type', 'amount', 'nameOrig', 'oldbalanceOrg', 'newbalanceOrig',\n",
            "       'nameDest', 'oldbalanceDest', 'newbalanceDest', 'isFraud',\n",
            "       'isFlaggedFraud'],\n",
            "      dtype='object') \n",
            "\n",
            "Data types : \n",
            " step                int64\n",
            "type               object\n",
            "amount            float64\n",
            "nameOrig           object\n",
            "oldbalanceOrg     float64\n",
            "newbalanceOrig    float64\n",
            "nameDest           object\n",
            "oldbalanceDest    float64\n",
            "newbalanceDest    float64\n",
            "isFraud             int64\n",
            "isFlaggedFraud      int64\n",
            "dtype: object\n",
            "\n",
            "Summary of data : \n",
            "                step        amount  ...       isFraud  isFlaggedFraud\n",
            "count  6.362620e+06  6.362620e+06  ...  6.362620e+06    6.362620e+06\n",
            "mean   2.433972e+02  1.798619e+05  ...  1.290820e-03    2.514687e-06\n",
            "std    1.423320e+02  6.038582e+05  ...  3.590480e-02    1.585775e-03\n",
            "min    1.000000e+00  0.000000e+00  ...  0.000000e+00    0.000000e+00\n",
            "25%    1.560000e+02  1.338957e+04  ...  0.000000e+00    0.000000e+00\n",
            "50%    2.390000e+02  7.487194e+04  ...  0.000000e+00    0.000000e+00\n",
            "75%    3.350000e+02  2.087215e+05  ...  0.000000e+00    0.000000e+00\n",
            "max    7.430000e+02  9.244552e+07  ...  1.000000e+00    1.000000e+00\n",
            "\n",
            "[8 rows x 8 columns] \n",
            "\n",
            "<class 'pandas.core.frame.DataFrame'>\n",
            "RangeIndex: 6362620 entries, 0 to 6362619\n",
            "Data columns (total 11 columns):\n",
            " #   Column          Dtype  \n",
            "---  ------          -----  \n",
            " 0   step            int64  \n",
            " 1   type            object \n",
            " 2   amount          float64\n",
            " 3   nameOrig        object \n",
            " 4   oldbalanceOrg   float64\n",
            " 5   newbalanceOrig  float64\n",
            " 6   nameDest        object \n",
            " 7   oldbalanceDest  float64\n",
            " 8   newbalanceDest  float64\n",
            " 9   isFraud         int64  \n",
            " 10  isFlaggedFraud  int64  \n",
            "dtypes: float64(5), int64(3), object(3)\n",
            "memory usage: 534.0+ MB\n",
            "data info :\n",
            "None\n",
            "\n",
            "Null objects in each column :\n",
            "step              0\n",
            "type              0\n",
            "amount            0\n",
            "nameOrig          0\n",
            "oldbalanceOrg     0\n",
            "newbalanceOrig    0\n",
            "nameDest          0\n",
            "oldbalanceDest    0\n",
            "newbalanceDest    0\n",
            "isFraud           0\n",
            "isFlaggedFraud    0\n",
            "dtype: int64\n",
            "\n",
            "Duplicate rows in data :\n",
            "False\n",
            "\n"
          ]
        }
      ]
    },
    {
      "cell_type": "code",
      "source": [
        "#Handling  missing value by column\n",
        "def miss_column(df):\n",
        "  print(f\"Missing objects in dataframe before :\\n{np.any(df.isna())}\\n\")\n",
        "  #df.dropna(thresh=len(df)*0.9, axis=1)  #drop columns in which more than 10% of values missing\n",
        "  miss_col=list(df.columns[df.isnull().any()])\n",
        "  print(f\"Missing columns in dataframe are :\\n{miss_col}\\n\")  \n",
        "  for col in miss_col:\n",
        "    #df[col].fillna(df[col].median(),inplace=True)\n",
        "    df.dropna(subset=[col],inplace=True) # or use fill \n",
        "  print(f\"Missing objects in dataframe after :\\n{np.any(df.isna())}\\n\")\n",
        "  return df\n",
        "\n",
        "#No missing values \n",
        "#df=miss_column(df)"
      ],
      "metadata": {
        "id": "r-Fq0i0LQq49"
      },
      "execution_count": null,
      "outputs": []
    },
    {
      "cell_type": "code",
      "source": [
        "def duplicate_drop(df):\n",
        "  print(f\"Duplicate objects in dataframe before :\\n{df.duplicated().value_counts()}\\n\")\n",
        "  #df.dropna(thresh=len(df)*0.9, axis=1)  #drop columns in which more than 10% of values missing\n",
        "  df=df.drop_duplicates()\n",
        "  print(f\"Duplicate objects in dataframe after :\\n{df.duplicated().value_counts()}\\n\")\n",
        "  return df\n",
        "#No duplicates\n",
        "#df=duplicate_drop(df) "
      ],
      "metadata": {
        "id": "ToOVCYv0QjlZ"
      },
      "execution_count": null,
      "outputs": []
    },
    {
      "cell_type": "code",
      "source": [
        "def unique_values(data):\n",
        "    total = data.count()\n",
        "    tt = pd.DataFrame(total)\n",
        "    tt.columns = ['Total']\n",
        "    uniques = []\n",
        "    for col in data.columns:\n",
        "        unique = data[col].nunique()\n",
        "        uniques.append(unique)\n",
        "    tt['Uniques'] = uniques\n",
        "    return(np.transpose(tt))\n",
        "unique_values(df)"
      ],
      "metadata": {
        "colab": {
          "base_uri": "https://localhost:8080/",
          "height": 112
        },
        "id": "nGxO-wCrf1vX",
        "outputId": "08eca1fb-94fb-46ed-adbc-2dce7a6452cf"
      },
      "execution_count": null,
      "outputs": [
        {
          "output_type": "execute_result",
          "data": {
            "text/html": [
              "\n",
              "  <div id=\"df-51edeb49-12ed-46ed-9ad5-27177713fe84\">\n",
              "    <div class=\"colab-df-container\">\n",
              "      <div>\n",
              "<style scoped>\n",
              "    .dataframe tbody tr th:only-of-type {\n",
              "        vertical-align: middle;\n",
              "    }\n",
              "\n",
              "    .dataframe tbody tr th {\n",
              "        vertical-align: top;\n",
              "    }\n",
              "\n",
              "    .dataframe thead th {\n",
              "        text-align: right;\n",
              "    }\n",
              "</style>\n",
              "<table border=\"1\" class=\"dataframe\">\n",
              "  <thead>\n",
              "    <tr style=\"text-align: right;\">\n",
              "      <th></th>\n",
              "      <th>step</th>\n",
              "      <th>type</th>\n",
              "      <th>amount</th>\n",
              "      <th>nameOrig</th>\n",
              "      <th>oldbalanceOrg</th>\n",
              "      <th>newbalanceOrig</th>\n",
              "      <th>nameDest</th>\n",
              "      <th>oldbalanceDest</th>\n",
              "      <th>newbalanceDest</th>\n",
              "      <th>isFraud</th>\n",
              "      <th>isFlaggedFraud</th>\n",
              "    </tr>\n",
              "  </thead>\n",
              "  <tbody>\n",
              "    <tr>\n",
              "      <th>Total</th>\n",
              "      <td>6362620</td>\n",
              "      <td>6362620</td>\n",
              "      <td>6362620</td>\n",
              "      <td>6362620</td>\n",
              "      <td>6362620</td>\n",
              "      <td>6362620</td>\n",
              "      <td>6362620</td>\n",
              "      <td>6362620</td>\n",
              "      <td>6362620</td>\n",
              "      <td>6362620</td>\n",
              "      <td>6362620</td>\n",
              "    </tr>\n",
              "    <tr>\n",
              "      <th>Uniques</th>\n",
              "      <td>743</td>\n",
              "      <td>5</td>\n",
              "      <td>5316900</td>\n",
              "      <td>6353307</td>\n",
              "      <td>1845844</td>\n",
              "      <td>2682586</td>\n",
              "      <td>2722362</td>\n",
              "      <td>3614697</td>\n",
              "      <td>3555499</td>\n",
              "      <td>2</td>\n",
              "      <td>2</td>\n",
              "    </tr>\n",
              "  </tbody>\n",
              "</table>\n",
              "</div>\n",
              "      <button class=\"colab-df-convert\" onclick=\"convertToInteractive('df-51edeb49-12ed-46ed-9ad5-27177713fe84')\"\n",
              "              title=\"Convert this dataframe to an interactive table.\"\n",
              "              style=\"display:none;\">\n",
              "        \n",
              "  <svg xmlns=\"http://www.w3.org/2000/svg\" height=\"24px\"viewBox=\"0 0 24 24\"\n",
              "       width=\"24px\">\n",
              "    <path d=\"M0 0h24v24H0V0z\" fill=\"none\"/>\n",
              "    <path d=\"M18.56 5.44l.94 2.06.94-2.06 2.06-.94-2.06-.94-.94-2.06-.94 2.06-2.06.94zm-11 1L8.5 8.5l.94-2.06 2.06-.94-2.06-.94L8.5 2.5l-.94 2.06-2.06.94zm10 10l.94 2.06.94-2.06 2.06-.94-2.06-.94-.94-2.06-.94 2.06-2.06.94z\"/><path d=\"M17.41 7.96l-1.37-1.37c-.4-.4-.92-.59-1.43-.59-.52 0-1.04.2-1.43.59L10.3 9.45l-7.72 7.72c-.78.78-.78 2.05 0 2.83L4 21.41c.39.39.9.59 1.41.59.51 0 1.02-.2 1.41-.59l7.78-7.78 2.81-2.81c.8-.78.8-2.07 0-2.86zM5.41 20L4 18.59l7.72-7.72 1.47 1.35L5.41 20z\"/>\n",
              "  </svg>\n",
              "      </button>\n",
              "      \n",
              "  <style>\n",
              "    .colab-df-container {\n",
              "      display:flex;\n",
              "      flex-wrap:wrap;\n",
              "      gap: 12px;\n",
              "    }\n",
              "\n",
              "    .colab-df-convert {\n",
              "      background-color: #E8F0FE;\n",
              "      border: none;\n",
              "      border-radius: 50%;\n",
              "      cursor: pointer;\n",
              "      display: none;\n",
              "      fill: #1967D2;\n",
              "      height: 32px;\n",
              "      padding: 0 0 0 0;\n",
              "      width: 32px;\n",
              "    }\n",
              "\n",
              "    .colab-df-convert:hover {\n",
              "      background-color: #E2EBFA;\n",
              "      box-shadow: 0px 1px 2px rgba(60, 64, 67, 0.3), 0px 1px 3px 1px rgba(60, 64, 67, 0.15);\n",
              "      fill: #174EA6;\n",
              "    }\n",
              "\n",
              "    [theme=dark] .colab-df-convert {\n",
              "      background-color: #3B4455;\n",
              "      fill: #D2E3FC;\n",
              "    }\n",
              "\n",
              "    [theme=dark] .colab-df-convert:hover {\n",
              "      background-color: #434B5C;\n",
              "      box-shadow: 0px 1px 3px 1px rgba(0, 0, 0, 0.15);\n",
              "      filter: drop-shadow(0px 1px 2px rgba(0, 0, 0, 0.3));\n",
              "      fill: #FFFFFF;\n",
              "    }\n",
              "  </style>\n",
              "\n",
              "      <script>\n",
              "        const buttonEl =\n",
              "          document.querySelector('#df-51edeb49-12ed-46ed-9ad5-27177713fe84 button.colab-df-convert');\n",
              "        buttonEl.style.display =\n",
              "          google.colab.kernel.accessAllowed ? 'block' : 'none';\n",
              "\n",
              "        async function convertToInteractive(key) {\n",
              "          const element = document.querySelector('#df-51edeb49-12ed-46ed-9ad5-27177713fe84');\n",
              "          const dataTable =\n",
              "            await google.colab.kernel.invokeFunction('convertToInteractive',\n",
              "                                                     [key], {});\n",
              "          if (!dataTable) return;\n",
              "\n",
              "          const docLinkHtml = 'Like what you see? Visit the ' +\n",
              "            '<a target=\"_blank\" href=https://colab.research.google.com/notebooks/data_table.ipynb>data table notebook</a>'\n",
              "            + ' to learn more about interactive tables.';\n",
              "          element.innerHTML = '';\n",
              "          dataTable['output_type'] = 'display_data';\n",
              "          await google.colab.output.renderOutput(dataTable, element);\n",
              "          const docLink = document.createElement('div');\n",
              "          docLink.innerHTML = docLinkHtml;\n",
              "          element.appendChild(docLink);\n",
              "        }\n",
              "      </script>\n",
              "    </div>\n",
              "  </div>\n",
              "  "
            ],
            "text/plain": [
              "            step     type   amount  ...  newbalanceDest  isFraud  isFlaggedFraud\n",
              "Total    6362620  6362620  6362620  ...         6362620  6362620         6362620\n",
              "Uniques      743        5  5316900  ...         3555499        2               2\n",
              "\n",
              "[2 rows x 11 columns]"
            ]
          },
          "metadata": {},
          "execution_count": 8
        }
      ]
    },
    {
      "cell_type": "code",
      "source": [
        "# Checking for outliers\n",
        "df.boxplot()\n",
        "plt.xticks(rotation=90)\n",
        "plt.show()"
      ],
      "metadata": {
        "colab": {
          "base_uri": "https://localhost:8080/",
          "height": 366
        },
        "id": "H5zQfKwuRJvz",
        "outputId": "6e96d0ed-5c65-4752-e554-e343ff05a2ef"
      },
      "execution_count": null,
      "outputs": [
        {
          "output_type": "execute_result",
          "data": {
            "text/plain": [
              "<matplotlib.axes._subplots.AxesSubplot at 0x7fd77ead5cd0>"
            ]
          },
          "metadata": {},
          "execution_count": 9
        },
        {
          "output_type": "execute_result",
          "data": {
            "text/plain": [
              "(array([1, 2, 3, 4, 5, 6, 7, 8]), <a list of 8 Text major ticklabel objects>)"
            ]
          },
          "metadata": {},
          "execution_count": 9
        },
        {
          "output_type": "display_data",
          "data": {
            "image/png": "[encoded data removed]",
            "text/plain": [
              "<Figure size 432x288 with 1 Axes>"
            ]
          },
          "metadata": {
            "needs_background": "light"
          }
        }
      ]
    },
    {
      "cell_type": "code",
      "source": [
        "print(f\"Data shape: {df.shape}\")"
      ],
      "metadata": {
        "colab": {
          "base_uri": "https://localhost:8080/"
        },
        "id": "uZP3rcfPhMPd",
        "outputId": "c46b945d-6da4-4c36-c6fe-8ef4a73f1dfa"
      },
      "execution_count": null,
      "outputs": [
        {
          "output_type": "stream",
          "name": "stdout",
          "text": [
            "Data shape: (6362620, 11)\n"
          ]
        }
      ]
    },
    {
      "cell_type": "code",
      "source": [
        "# Create two dataframes with fraud and non-fraud data \n",
        "df_fraud = df.loc[df.isFraud == 1] \n",
        "df_non_fraud = df.loc[df.isFraud == 0]\n",
        "\n",
        "sns.countplot(x=\"isFraud\",data=df)\n",
        "plt.title(\"Count of Fraudulent Payments\")\n",
        "plt.show()\n",
        "print(\"Number of normal examples: \",df_non_fraud.isFraud.count())\n",
        "print(\"Number of fradulent examples: \",df_fraud.isFraud.count())\n",
        "#print(df1.isFraud.value_counts()) # does the same thing above"
      ],
      "metadata": {
        "colab": {
          "base_uri": "https://localhost:8080/",
          "height": 347
        },
        "id": "Sv9Mec8FNKDl",
        "outputId": "d167d70d-b1c6-4616-dc0c-8e5fa543b213"
      },
      "execution_count": null,
      "outputs": [
        {
          "output_type": "execute_result",
          "data": {
            "text/plain": [
              "<matplotlib.axes._subplots.AxesSubplot at 0x7fd76f438b90>"
            ]
          },
          "metadata": {},
          "execution_count": 11
        },
        {
          "output_type": "execute_result",
          "data": {
            "text/plain": [
              "Text(0.5, 1.0, 'Count of Fraudulent Payments')"
            ]
          },
          "metadata": {},
          "execution_count": 11
        },
        {
          "output_type": "display_data",
          "data": {
            "image/png": "[encoded data removed]",
            "text/plain": [
              "<Figure size 432x288 with 1 Axes>"
            ]
          },
          "metadata": {
            "needs_background": "light"
          }
        },
        {
          "output_type": "stream",
          "name": "stdout",
          "text": [
            "Number of normal examples:  6354407\n",
            "Number of fradulent examples:  8213\n"
          ]
        }
      ]
    },
    {
      "cell_type": "code",
      "source": [
        "import math\n",
        "a= (8213/(6354407+8213))*100\n",
        "print ('The percentage of Fraud transactions is ' \"%.2f\" % a, '%' )"
      ],
      "metadata": {
        "colab": {
          "base_uri": "https://localhost:8080/"
        },
        "id": "z38TMR1ablwO",
        "outputId": "27a15ecf-16c4-41e7-ef2c-06d0403888f7"
      },
      "execution_count": null,
      "outputs": [
        {
          "output_type": "stream",
          "name": "stdout",
          "text": [
            "The percentage of Fraud transactions is 0.13 %\n"
          ]
        }
      ]
    },
    {
      "cell_type": "markdown",
      "source": [
        "There is a imbalance in dataset"
      ],
      "metadata": {
        "id": "46KP-fCbnycl"
      }
    },
    {
      "cell_type": "code",
      "source": [
        "def plot_count(df, feature, title='', size=2):\n",
        "    f, ax = plt.subplots(1,1, figsize=(3*size,2*size))\n",
        "    total = float(len(df))\n",
        "    sns.countplot(df[feature],order = df[feature].value_counts().index, palette='Set3')\n",
        "    plt.title(title)\n",
        "    if(size > 2):\n",
        "        plt.xticks(rotation=90, size=8)\n",
        "    for p in ax.patches:\n",
        "        height = p.get_height()\n",
        "        ax.text(p.get_x()+p.get_width()/2.,\n",
        "                height + 3,\n",
        "                '{:1.4f}%'.format(100*height/total),\n",
        "                ha=\"center\") \n",
        "    plt.show()"
      ],
      "metadata": {
        "id": "GXgz9TpgQA_N"
      },
      "execution_count": null,
      "outputs": []
    },
    {
      "cell_type": "code",
      "source": [
        "plot_count(df, 'isFlaggedFraud', 'Distribution of `isFlaggedFraud` (count & percent)', size=2.5)"
      ],
      "metadata": {
        "colab": {
          "base_uri": "https://localhost:8080/",
          "height": 345
        },
        "id": "v1-3o3aCqJb0",
        "outputId": "6c3cffff-99a2-490e-ceb5-bb4968954f7b"
      },
      "execution_count": null,
      "outputs": [
        {
          "output_type": "display_data",
          "data": {
            "image/png": "[encoded data removed]",
            "text/plain": [
              "<Figure size 540x360 with 1 Axes>"
            ]
          },
          "metadata": {
            "needs_background": "light"
          }
        }
      ]
    },
    {
      "cell_type": "code",
      "source": [
        "plot_count(df, 'isFraud', 'Distribution of `isFraud` (count & percent)', size=2.5)"
      ],
      "metadata": {
        "colab": {
          "base_uri": "https://localhost:8080/",
          "height": 345
        },
        "id": "gUmaezJXiA8o",
        "outputId": "904c5ba6-b907-4ec3-e8a6-dabf7585d667"
      },
      "execution_count": null,
      "outputs": [
        {
          "output_type": "display_data",
          "data": {
            "image/png": "[encoded data removed]",
            "text/plain": [
              "<Figure size 540x360 with 1 Axes>"
            ]
          },
          "metadata": {
            "needs_background": "light"
          }
        }
      ]
    },
    {
      "cell_type": "code",
      "source": [
        "plot_count(df, 'type', 'Distribution of type (count & percent)', size=2.5)"
      ],
      "metadata": {
        "colab": {
          "base_uri": "https://localhost:8080/",
          "height": 383
        },
        "id": "aFxaO_fvh1x6",
        "outputId": "62ff1490-6b03-434f-824f-e997faae7098"
      },
      "execution_count": null,
      "outputs": [
        {
          "output_type": "display_data",
          "data": {
            "image/png": "[encoded data removed]",
            "text/plain": [
              "<Figure size 540x360 with 1 Axes>"
            ]
          },
          "metadata": {
            "needs_background": "light"
          }
        }
      ]
    },
    {
      "cell_type": "code",
      "source": [
        "ax = df.groupby(['isFlaggedFraud','isFraud']).size().plot(kind='bar',figsize=(8, 6), color='green')\n",
        "ax.set_title(\" Comparison between Fraud and Flagged Fraud transactions\")\n",
        "ax.set_xlabel(\"(isFlaggedFraud, isFraud)\")\n",
        "ax.set_ylabel(\"Count of transaction\")\n",
        "plt.ticklabel_format(style='plain', axis='y')\n",
        "for p in ax.patches:\n",
        "    ax.annotate(str(format(int(p.get_height()), ',d')), (p.get_x(), p.get_height()))"
      ],
      "metadata": {
        "colab": {
          "base_uri": "https://localhost:8080/",
          "height": 458
        },
        "id": "Keqi15I4cYDc",
        "outputId": "219b149a-013d-4b95-9fda-4132b5a35e79"
      },
      "execution_count": null,
      "outputs": [
        {
          "output_type": "execute_result",
          "data": {
            "text/plain": [
              "Text(0.5, 1.0, ' Comparison between Fraud and Flagged Fraud transactions')"
            ]
          },
          "metadata": {},
          "execution_count": 17
        },
        {
          "output_type": "execute_result",
          "data": {
            "text/plain": [
              "Text(0.5, 0, '(isFlaggedFraud, isFraud)')"
            ]
          },
          "metadata": {},
          "execution_count": 17
        },
        {
          "output_type": "execute_result",
          "data": {
            "text/plain": [
              "Text(0, 0.5, 'Count of transaction')"
            ]
          },
          "metadata": {},
          "execution_count": 17
        },
        {
          "output_type": "execute_result",
          "data": {
            "text/plain": [
              "Text(-0.25, 6354407, '6,354,407')"
            ]
          },
          "metadata": {},
          "execution_count": 17
        },
        {
          "output_type": "execute_result",
          "data": {
            "text/plain": [
              "Text(0.75, 8197, '8,197')"
            ]
          },
          "metadata": {},
          "execution_count": 17
        },
        {
          "output_type": "execute_result",
          "data": {
            "text/plain": [
              "Text(1.75, 16, '16')"
            ]
          },
          "metadata": {},
          "execution_count": 17
        },
        {
          "output_type": "display_data",
          "data": {
            "image/png": "[encoded data removed]",
            "text/plain": [
              "<Figure size 576x432 with 1 Axes>"
            ]
          },
          "metadata": {
            "needs_background": "light"
          }
        }
      ]
    },
    {
      "cell_type": "code",
      "source": [
        "ax = df.groupby(['type', 'isFraud']).size().plot(kind='bar',figsize=(8, 6), color='purple')\n",
        "ax.set_title(\" Transaction which are the actual fraud per transaction type\")\n",
        "ax.set_xlabel(\"(Type, isFraud)\")\n",
        "ax.set_ylabel(\"Count of transaction\")\n",
        "plt.ticklabel_format(style='plain', axis='y')\n",
        "for p in ax.patches:\n",
        "    ax.annotate(str(format(int(p.get_height()), ',d')), (p.get_x(), p.get_height()))"
      ],
      "metadata": {
        "colab": {
          "base_uri": "https://localhost:8080/",
          "height": 505
        },
        "id": "GHeB8kbScm51",
        "outputId": "9d55f95e-3b54-4b9d-c3bb-42a5a9a73ff5"
      },
      "execution_count": null,
      "outputs": [
        {
          "output_type": "execute_result",
          "data": {
            "text/plain": [
              "Text(0.5, 1.0, ' Transaction which are the actual fraud per transaction type')"
            ]
          },
          "metadata": {},
          "execution_count": 18
        },
        {
          "output_type": "execute_result",
          "data": {
            "text/plain": [
              "Text(0.5, 0, '(Type, isFraud)')"
            ]
          },
          "metadata": {},
          "execution_count": 18
        },
        {
          "output_type": "execute_result",
          "data": {
            "text/plain": [
              "Text(0, 0.5, 'Count of transaction')"
            ]
          },
          "metadata": {},
          "execution_count": 18
        },
        {
          "output_type": "execute_result",
          "data": {
            "text/plain": [
              "Text(-0.25, 1399284, '1,399,284')"
            ]
          },
          "metadata": {},
          "execution_count": 18
        },
        {
          "output_type": "execute_result",
          "data": {
            "text/plain": [
              "Text(0.75, 2233384, '2,233,384')"
            ]
          },
          "metadata": {},
          "execution_count": 18
        },
        {
          "output_type": "execute_result",
          "data": {
            "text/plain": [
              "Text(1.75, 4116, '4,116')"
            ]
          },
          "metadata": {},
          "execution_count": 18
        },
        {
          "output_type": "execute_result",
          "data": {
            "text/plain": [
              "Text(2.75, 41432, '41,432')"
            ]
          },
          "metadata": {},
          "execution_count": 18
        },
        {
          "output_type": "execute_result",
          "data": {
            "text/plain": [
              "Text(3.75, 2151495, '2,151,495')"
            ]
          },
          "metadata": {},
          "execution_count": 18
        },
        {
          "output_type": "execute_result",
          "data": {
            "text/plain": [
              "Text(4.75, 528812, '528,812')"
            ]
          },
          "metadata": {},
          "execution_count": 18
        },
        {
          "output_type": "execute_result",
          "data": {
            "text/plain": [
              "Text(5.75, 4097, '4,097')"
            ]
          },
          "metadata": {},
          "execution_count": 18
        },
        {
          "output_type": "display_data",
          "data": {
            "image/png": "[encoded data removed]",
            "text/plain": [
              "<Figure size 576x432 with 1 Axes>"
            ]
          },
          "metadata": {
            "needs_background": "light"
          }
        }
      ]
    },
    {
      "cell_type": "code",
      "source": [
        "fig, (ax1, ax2) = plt.subplots(nrows=2, figsize=(16,12))\n",
        "s = sns.boxplot(ax = ax1, x=\"isFraud\", y=\"step\", hue=\"type\",data=df, palette=\"PRGn\",showfliers=True)\n",
        "s = sns.boxplot(ax = ax2, x=\"isFraud\", y=\"step\", hue=\"type\",data=df, palette=\"PRGn\",showfliers=False)\n",
        "plt.show()"
      ],
      "metadata": {
        "colab": {
          "base_uri": "https://localhost:8080/",
          "height": 714
        },
        "id": "p8R2Su2cqbDi",
        "outputId": "6e012d46-5384-4417-c9ae-c2bbb9f17e06"
      },
      "execution_count": null,
      "outputs": [
        {
          "output_type": "display_data",
          "data": {
            "image/png": "[encoded data removed]",
            "text/plain": [
              "<Figure size 1152x864 with 2 Axes>"
            ]
          },
          "metadata": {
            "needs_background": "light"
          }
        }
      ]
    },
    {
      "cell_type": "markdown",
      "source": [
        "\n",
        "From the above graph we can see that the Fraudulent transfers are from CASH_OUT(4116) and TRANSFER(4097) , transaction types"
      ],
      "metadata": {
        "id": "hNFi6uuFcqFr"
      }
    },
    {
      "cell_type": "code",
      "source": [
        "ax = df.groupby(['type', 'isFlaggedFraud']).size().plot(kind='bar',figsize=(8, 6), color='pink')\n",
        "ax.set_title(\"Transaction which are flagged as fraud per transaction type\")\n",
        "ax.set_xlabel(\"(Type, isFlaggedFraud)\")\n",
        "ax.set_ylabel(\"Count of transaction\")\n",
        "for p in ax.patches:\n",
        "    ax.annotate(str(format(int(p.get_height()), ',d')), (p.get_x(), p.get_height()*1.01))"
      ],
      "metadata": {
        "colab": {
          "base_uri": "https://localhost:8080/",
          "height": 505
        },
        "id": "HSv1tgX8mhk0",
        "outputId": "32cc1f01-44c1-495f-db01-ba3d43f53c71"
      },
      "execution_count": null,
      "outputs": [
        {
          "output_type": "execute_result",
          "data": {
            "text/plain": [
              "Text(0.5, 1.0, 'Transaction which are flagged as fraud per transaction type')"
            ]
          },
          "metadata": {},
          "execution_count": 20
        },
        {
          "output_type": "execute_result",
          "data": {
            "text/plain": [
              "Text(0.5, 0, '(Type, isFlaggedFraud)')"
            ]
          },
          "metadata": {},
          "execution_count": 20
        },
        {
          "output_type": "execute_result",
          "data": {
            "text/plain": [
              "Text(0, 0.5, 'Count of transaction')"
            ]
          },
          "metadata": {},
          "execution_count": 20
        },
        {
          "output_type": "execute_result",
          "data": {
            "text/plain": [
              "Text(-0.25, 1413276.84, '1,399,284')"
            ]
          },
          "metadata": {},
          "execution_count": 20
        },
        {
          "output_type": "execute_result",
          "data": {
            "text/plain": [
              "Text(0.75, 2259875.0, '2,237,500')"
            ]
          },
          "metadata": {},
          "execution_count": 20
        },
        {
          "output_type": "execute_result",
          "data": {
            "text/plain": [
              "Text(1.75, 41846.32, '41,432')"
            ]
          },
          "metadata": {},
          "execution_count": 20
        },
        {
          "output_type": "execute_result",
          "data": {
            "text/plain": [
              "Text(2.75, 2173009.95, '2,151,495')"
            ]
          },
          "metadata": {},
          "execution_count": 20
        },
        {
          "output_type": "execute_result",
          "data": {
            "text/plain": [
              "Text(3.75, 538221.93, '532,893')"
            ]
          },
          "metadata": {},
          "execution_count": 20
        },
        {
          "output_type": "execute_result",
          "data": {
            "text/plain": [
              "Text(4.75, 16.16, '16')"
            ]
          },
          "metadata": {},
          "execution_count": 20
        },
        {
          "output_type": "display_data",
          "data": {
            "image/png": "[encoded data removed]",
            "text/plain": [
              "<Figure size 576x432 with 1 Axes>"
            ]
          },
          "metadata": {
            "needs_background": "light"
          }
        }
      ]
    },
    {
      "cell_type": "markdown",
      "source": [
        "From the above graph we can see that the transfers that are Flagged Fraud are from TRANSFER(16) transaction type. So out of 4097 Fraud Transfers only 16 were flagged by the system. We can treat this feature insignificant "
      ],
      "metadata": {
        "id": "q8bALJJ_dft7"
      }
    },
    {
      "cell_type": "code",
      "source": [
        "print('All Transactions ',df['nameOrig'].size)\n",
        "print('Unique Transactions ',df['nameOrig'].unique().size)\n",
        "print('Transactions from existing accounts ',df['nameOrig'].size-df['nameOrig'].unique().size)"
      ],
      "metadata": {
        "colab": {
          "base_uri": "https://localhost:8080/"
        },
        "id": "O_GCuHyYduqw",
        "outputId": "ca9258c7-2ac9-4990-dde2-cb123c8e2ac6"
      },
      "execution_count": null,
      "outputs": [
        {
          "output_type": "stream",
          "name": "stdout",
          "text": [
            "All Transactions  6362620\n",
            "Unique Transactions  6353307\n",
            "Transactions from existing accounts  9313\n"
          ]
        }
      ]
    },
    {
      "cell_type": "code",
      "source": [
        "print('All Transactions ',df['nameDest'].size)\n",
        "print('Unique Transactions ',df['nameDest'].unique().size)\n",
        "print('Transactions from existing accounts ',df['nameDest'].size-df['nameOrig'].unique().size)"
      ],
      "metadata": {
        "colab": {
          "base_uri": "https://localhost:8080/"
        },
        "id": "Vd3Bh_MoeE3U",
        "outputId": "5d9fb4c8-5c98-438f-eb28-711e0a51cc09"
      },
      "execution_count": null,
      "outputs": [
        {
          "output_type": "stream",
          "name": "stdout",
          "text": [
            "All Transactions  6362620\n",
            "Unique Transactions  2722362\n",
            "Transactions from existing accounts  9313\n"
          ]
        }
      ]
    },
    {
      "cell_type": "code",
      "source": [
        "# Eliminate columns shown to be irrelevant for analysis in the EDA\n",
        "df = df.drop(['nameOrig', 'nameDest', 'isFlaggedFraud'], axis = 1)\n"
      ],
      "metadata": {
        "id": "rdJhpYioeE5-"
      },
      "execution_count": null,
      "outputs": []
    },
    {
      "cell_type": "code",
      "source": [
        "df.head()"
      ],
      "metadata": {
        "colab": {
          "base_uri": "https://localhost:8080/",
          "height": 206
        },
        "id": "IAHm6LBDeE9e",
        "outputId": "49ad7e95-5ae6-473d-fb92-3f68189e57e5"
      },
      "execution_count": null,
      "outputs": [
        {
          "output_type": "execute_result",
          "data": {
            "text/html": [
              "\n",
              "  <div id=\"df-3fc22ac1-9c7b-4872-bd42-c40f1c41da2f\">\n",
              "    <div class=\"colab-df-container\">\n",
              "      <div>\n",
              "<style scoped>\n",
              "    .dataframe tbody tr th:only-of-type {\n",
              "        vertical-align: middle;\n",
              "    }\n",
              "\n",
              "    .dataframe tbody tr th {\n",
              "        vertical-align: top;\n",
              "    }\n",
              "\n",
              "    .dataframe thead th {\n",
              "        text-align: right;\n",
              "    }\n",
              "</style>\n",
              "<table border=\"1\" class=\"dataframe\">\n",
              "  <thead>\n",
              "    <tr style=\"text-align: right;\">\n",
              "      <th></th>\n",
              "      <th>step</th>\n",
              "      <th>type</th>\n",
              "      <th>amount</th>\n",
              "      <th>oldbalanceOrg</th>\n",
              "      <th>newbalanceOrig</th>\n",
              "      <th>oldbalanceDest</th>\n",
              "      <th>newbalanceDest</th>\n",
              "      <th>isFraud</th>\n",
              "    </tr>\n",
              "  </thead>\n",
              "  <tbody>\n",
              "    <tr>\n",
              "      <th>0</th>\n",
              "      <td>1</td>\n",
              "      <td>PAYMENT</td>\n",
              "      <td>9839.64</td>\n",
              "      <td>170136.0</td>\n",
              "      <td>160296.36</td>\n",
              "      <td>0.0</td>\n",
              "      <td>0.0</td>\n",
              "      <td>0</td>\n",
              "    </tr>\n",
              "    <tr>\n",
              "      <th>1</th>\n",
              "      <td>1</td>\n",
              "      <td>PAYMENT</td>\n",
              "      <td>1864.28</td>\n",
              "      <td>21249.0</td>\n",
              "      <td>19384.72</td>\n",
              "      <td>0.0</td>\n",
              "      <td>0.0</td>\n",
              "      <td>0</td>\n",
              "    </tr>\n",
              "    <tr>\n",
              "      <th>2</th>\n",
              "      <td>1</td>\n",
              "      <td>TRANSFER</td>\n",
              "      <td>181.00</td>\n",
              "      <td>181.0</td>\n",
              "      <td>0.00</td>\n",
              "      <td>0.0</td>\n",
              "      <td>0.0</td>\n",
              "      <td>1</td>\n",
              "    </tr>\n",
              "    <tr>\n",
              "      <th>3</th>\n",
              "      <td>1</td>\n",
              "      <td>CASH_OUT</td>\n",
              "      <td>181.00</td>\n",
              "      <td>181.0</td>\n",
              "      <td>0.00</td>\n",
              "      <td>21182.0</td>\n",
              "      <td>0.0</td>\n",
              "      <td>1</td>\n",
              "    </tr>\n",
              "    <tr>\n",
              "      <th>4</th>\n",
              "      <td>1</td>\n",
              "      <td>PAYMENT</td>\n",
              "      <td>11668.14</td>\n",
              "      <td>41554.0</td>\n",
              "      <td>29885.86</td>\n",
              "      <td>0.0</td>\n",
              "      <td>0.0</td>\n",
              "      <td>0</td>\n",
              "    </tr>\n",
              "  </tbody>\n",
              "</table>\n",
              "</div>\n",
              "      <button class=\"colab-df-convert\" onclick=\"convertToInteractive('df-3fc22ac1-9c7b-4872-bd42-c40f1c41da2f')\"\n",
              "              title=\"Convert this dataframe to an interactive table.\"\n",
              "              style=\"display:none;\">\n",
              "        \n",
              "  <svg xmlns=\"http://www.w3.org/2000/svg\" height=\"24px\"viewBox=\"0 0 24 24\"\n",
              "       width=\"24px\">\n",
              "    <path d=\"M0 0h24v24H0V0z\" fill=\"none\"/>\n",
              "    <path d=\"M18.56 5.44l.94 2.06.94-2.06 2.06-.94-2.06-.94-.94-2.06-.94 2.06-2.06.94zm-11 1L8.5 8.5l.94-2.06 2.06-.94-2.06-.94L8.5 2.5l-.94 2.06-2.06.94zm10 10l.94 2.06.94-2.06 2.06-.94-2.06-.94-.94-2.06-.94 2.06-2.06.94z\"/><path d=\"M17.41 7.96l-1.37-1.37c-.4-.4-.92-.59-1.43-.59-.52 0-1.04.2-1.43.59L10.3 9.45l-7.72 7.72c-.78.78-.78 2.05 0 2.83L4 21.41c.39.39.9.59 1.41.59.51 0 1.02-.2 1.41-.59l7.78-7.78 2.81-2.81c.8-.78.8-2.07 0-2.86zM5.41 20L4 18.59l7.72-7.72 1.47 1.35L5.41 20z\"/>\n",
              "  </svg>\n",
              "      </button>\n",
              "      \n",
              "  <style>\n",
              "    .colab-df-container {\n",
              "      display:flex;\n",
              "      flex-wrap:wrap;\n",
              "      gap: 12px;\n",
              "    }\n",
              "\n",
              "    .colab-df-convert {\n",
              "      background-color: #E8F0FE;\n",
              "      border: none;\n",
              "      border-radius: 50%;\n",
              "      cursor: pointer;\n",
              "      display: none;\n",
              "      fill: #1967D2;\n",
              "      height: 32px;\n",
              "      padding: 0 0 0 0;\n",
              "      width: 32px;\n",
              "    }\n",
              "\n",
              "    .colab-df-convert:hover {\n",
              "      background-color: #E2EBFA;\n",
              "      box-shadow: 0px 1px 2px rgba(60, 64, 67, 0.3), 0px 1px 3px 1px rgba(60, 64, 67, 0.15);\n",
              "      fill: #174EA6;\n",
              "    }\n",
              "\n",
              "    [theme=dark] .colab-df-convert {\n",
              "      background-color: #3B4455;\n",
              "      fill: #D2E3FC;\n",
              "    }\n",
              "\n",
              "    [theme=dark] .colab-df-convert:hover {\n",
              "      background-color: #434B5C;\n",
              "      box-shadow: 0px 1px 3px 1px rgba(0, 0, 0, 0.15);\n",
              "      filter: drop-shadow(0px 1px 2px rgba(0, 0, 0, 0.3));\n",
              "      fill: #FFFFFF;\n",
              "    }\n",
              "  </style>\n",
              "\n",
              "      <script>\n",
              "        const buttonEl =\n",
              "          document.querySelector('#df-3fc22ac1-9c7b-4872-bd42-c40f1c41da2f button.colab-df-convert');\n",
              "        buttonEl.style.display =\n",
              "          google.colab.kernel.accessAllowed ? 'block' : 'none';\n",
              "\n",
              "        async function convertToInteractive(key) {\n",
              "          const element = document.querySelector('#df-3fc22ac1-9c7b-4872-bd42-c40f1c41da2f');\n",
              "          const dataTable =\n",
              "            await google.colab.kernel.invokeFunction('convertToInteractive',\n",
              "                                                     [key], {});\n",
              "          if (!dataTable) return;\n",
              "\n",
              "          const docLinkHtml = 'Like what you see? Visit the ' +\n",
              "            '<a target=\"_blank\" href=https://colab.research.google.com/notebooks/data_table.ipynb>data table notebook</a>'\n",
              "            + ' to learn more about interactive tables.';\n",
              "          element.innerHTML = '';\n",
              "          dataTable['output_type'] = 'display_data';\n",
              "          await google.colab.output.renderOutput(dataTable, element);\n",
              "          const docLink = document.createElement('div');\n",
              "          docLink.innerHTML = docLinkHtml;\n",
              "          element.appendChild(docLink);\n",
              "        }\n",
              "      </script>\n",
              "    </div>\n",
              "  </div>\n",
              "  "
            ],
            "text/plain": [
              "   step      type    amount  ...  oldbalanceDest  newbalanceDest  isFraud\n",
              "0     1   PAYMENT   9839.64  ...             0.0             0.0        0\n",
              "1     1   PAYMENT   1864.28  ...             0.0             0.0        0\n",
              "2     1  TRANSFER    181.00  ...             0.0             0.0        1\n",
              "3     1  CASH_OUT    181.00  ...         21182.0             0.0        1\n",
              "4     1   PAYMENT  11668.14  ...             0.0             0.0        0\n",
              "\n",
              "[5 rows x 8 columns]"
            ]
          },
          "metadata": {},
          "execution_count": 24
        }
      ]
    },
    {
      "cell_type": "code",
      "source": [
        "df1 = df.loc[(df.type == 'TRANSFER') | (df.type == 'CASH_OUT')]\n",
        "\n",
        "randomState = 5\n",
        "np.random.seed(randomState)\n",
        "df1"
      ],
      "metadata": {
        "colab": {
          "base_uri": "https://localhost:8080/",
          "height": 424
        },
        "id": "rAS-z5OIeFAA",
        "outputId": "1ae2a64f-512c-430a-d871-46e039308ae4"
      },
      "execution_count": null,
      "outputs": [
        {
          "output_type": "execute_result",
          "data": {
            "text/html": [
              "\n",
              "  <div id=\"df-b5945dd2-a348-4ae3-a34c-b9db84ec6b63\">\n",
              "    <div class=\"colab-df-container\">\n",
              "      <div>\n",
              "<style scoped>\n",
              "    .dataframe tbody tr th:only-of-type {\n",
              "        vertical-align: middle;\n",
              "    }\n",
              "\n",
              "    .dataframe tbody tr th {\n",
              "        vertical-align: top;\n",
              "    }\n",
              "\n",
              "    .dataframe thead th {\n",
              "        text-align: right;\n",
              "    }\n",
              "</style>\n",
              "<table border=\"1\" class=\"dataframe\">\n",
              "  <thead>\n",
              "    <tr style=\"text-align: right;\">\n",
              "      <th></th>\n",
              "      <th>step</th>\n",
              "      <th>type</th>\n",
              "      <th>amount</th>\n",
              "      <th>oldbalanceOrg</th>\n",
              "      <th>newbalanceOrig</th>\n",
              "      <th>oldbalanceDest</th>\n",
              "      <th>newbalanceDest</th>\n",
              "      <th>isFraud</th>\n",
              "    </tr>\n",
              "  </thead>\n",
              "  <tbody>\n",
              "    <tr>\n",
              "      <th>2</th>\n",
              "      <td>1</td>\n",
              "      <td>TRANSFER</td>\n",
              "      <td>181.00</td>\n",
              "      <td>181.00</td>\n",
              "      <td>0.0</td>\n",
              "      <td>0.00</td>\n",
              "      <td>0.00</td>\n",
              "      <td>1</td>\n",
              "    </tr>\n",
              "    <tr>\n",
              "      <th>3</th>\n",
              "      <td>1</td>\n",
              "      <td>CASH_OUT</td>\n",
              "      <td>181.00</td>\n",
              "      <td>181.00</td>\n",
              "      <td>0.0</td>\n",
              "      <td>21182.00</td>\n",
              "      <td>0.00</td>\n",
              "      <td>1</td>\n",
              "    </tr>\n",
              "    <tr>\n",
              "      <th>15</th>\n",
              "      <td>1</td>\n",
              "      <td>CASH_OUT</td>\n",
              "      <td>229133.94</td>\n",
              "      <td>15325.00</td>\n",
              "      <td>0.0</td>\n",
              "      <td>5083.00</td>\n",
              "      <td>51513.44</td>\n",
              "      <td>0</td>\n",
              "    </tr>\n",
              "    <tr>\n",
              "      <th>19</th>\n",
              "      <td>1</td>\n",
              "      <td>TRANSFER</td>\n",
              "      <td>215310.30</td>\n",
              "      <td>705.00</td>\n",
              "      <td>0.0</td>\n",
              "      <td>22425.00</td>\n",
              "      <td>0.00</td>\n",
              "      <td>0</td>\n",
              "    </tr>\n",
              "    <tr>\n",
              "      <th>24</th>\n",
              "      <td>1</td>\n",
              "      <td>TRANSFER</td>\n",
              "      <td>311685.89</td>\n",
              "      <td>10835.00</td>\n",
              "      <td>0.0</td>\n",
              "      <td>6267.00</td>\n",
              "      <td>2719172.89</td>\n",
              "      <td>0</td>\n",
              "    </tr>\n",
              "    <tr>\n",
              "      <th>...</th>\n",
              "      <td>...</td>\n",
              "      <td>...</td>\n",
              "      <td>...</td>\n",
              "      <td>...</td>\n",
              "      <td>...</td>\n",
              "      <td>...</td>\n",
              "      <td>...</td>\n",
              "      <td>...</td>\n",
              "    </tr>\n",
              "    <tr>\n",
              "      <th>6362615</th>\n",
              "      <td>743</td>\n",
              "      <td>CASH_OUT</td>\n",
              "      <td>339682.13</td>\n",
              "      <td>339682.13</td>\n",
              "      <td>0.0</td>\n",
              "      <td>0.00</td>\n",
              "      <td>339682.13</td>\n",
              "      <td>1</td>\n",
              "    </tr>\n",
              "    <tr>\n",
              "      <th>6362616</th>\n",
              "      <td>743</td>\n",
              "      <td>TRANSFER</td>\n",
              "      <td>6311409.28</td>\n",
              "      <td>6311409.28</td>\n",
              "      <td>0.0</td>\n",
              "      <td>0.00</td>\n",
              "      <td>0.00</td>\n",
              "      <td>1</td>\n",
              "    </tr>\n",
              "    <tr>\n",
              "      <th>6362617</th>\n",
              "      <td>743</td>\n",
              "      <td>CASH_OUT</td>\n",
              "      <td>6311409.28</td>\n",
              "      <td>6311409.28</td>\n",
              "      <td>0.0</td>\n",
              "      <td>68488.84</td>\n",
              "      <td>6379898.11</td>\n",
              "      <td>1</td>\n",
              "    </tr>\n",
              "    <tr>\n",
              "      <th>6362618</th>\n",
              "      <td>743</td>\n",
              "      <td>TRANSFER</td>\n",
              "      <td>850002.52</td>\n",
              "      <td>850002.52</td>\n",
              "      <td>0.0</td>\n",
              "      <td>0.00</td>\n",
              "      <td>0.00</td>\n",
              "      <td>1</td>\n",
              "    </tr>\n",
              "    <tr>\n",
              "      <th>6362619</th>\n",
              "      <td>743</td>\n",
              "      <td>CASH_OUT</td>\n",
              "      <td>850002.52</td>\n",
              "      <td>850002.52</td>\n",
              "      <td>0.0</td>\n",
              "      <td>6510099.11</td>\n",
              "      <td>7360101.63</td>\n",
              "      <td>1</td>\n",
              "    </tr>\n",
              "  </tbody>\n",
              "</table>\n",
              "<p>2770409 rows × 8 columns</p>\n",
              "</div>\n",
              "      <button class=\"colab-df-convert\" onclick=\"convertToInteractive('df-b5945dd2-a348-4ae3-a34c-b9db84ec6b63')\"\n",
              "              title=\"Convert this dataframe to an interactive table.\"\n",
              "              style=\"display:none;\">\n",
              "        \n",
              "  <svg xmlns=\"http://www.w3.org/2000/svg\" height=\"24px\"viewBox=\"0 0 24 24\"\n",
              "       width=\"24px\">\n",
              "    <path d=\"M0 0h24v24H0V0z\" fill=\"none\"/>\n",
              "    <path d=\"M18.56 5.44l.94 2.06.94-2.06 2.06-.94-2.06-.94-.94-2.06-.94 2.06-2.06.94zm-11 1L8.5 8.5l.94-2.06 2.06-.94-2.06-.94L8.5 2.5l-.94 2.06-2.06.94zm10 10l.94 2.06.94-2.06 2.06-.94-2.06-.94-.94-2.06-.94 2.06-2.06.94z\"/><path d=\"M17.41 7.96l-1.37-1.37c-.4-.4-.92-.59-1.43-.59-.52 0-1.04.2-1.43.59L10.3 9.45l-7.72 7.72c-.78.78-.78 2.05 0 2.83L4 21.41c.39.39.9.59 1.41.59.51 0 1.02-.2 1.41-.59l7.78-7.78 2.81-2.81c.8-.78.8-2.07 0-2.86zM5.41 20L4 18.59l7.72-7.72 1.47 1.35L5.41 20z\"/>\n",
              "  </svg>\n",
              "      </button>\n",
              "      \n",
              "  <style>\n",
              "    .colab-df-container {\n",
              "      display:flex;\n",
              "      flex-wrap:wrap;\n",
              "      gap: 12px;\n",
              "    }\n",
              "\n",
              "    .colab-df-convert {\n",
              "      background-color: #E8F0FE;\n",
              "      border: none;\n",
              "      border-radius: 50%;\n",
              "      cursor: pointer;\n",
              "      display: none;\n",
              "      fill: #1967D2;\n",
              "      height: 32px;\n",
              "      padding: 0 0 0 0;\n",
              "      width: 32px;\n",
              "    }\n",
              "\n",
              "    .colab-df-convert:hover {\n",
              "      background-color: #E2EBFA;\n",
              "      box-shadow: 0px 1px 2px rgba(60, 64, 67, 0.3), 0px 1px 3px 1px rgba(60, 64, 67, 0.15);\n",
              "      fill: #174EA6;\n",
              "    }\n",
              "\n",
              "    [theme=dark] .colab-df-convert {\n",
              "      background-color: #3B4455;\n",
              "      fill: #D2E3FC;\n",
              "    }\n",
              "\n",
              "    [theme=dark] .colab-df-convert:hover {\n",
              "      background-color: #434B5C;\n",
              "      box-shadow: 0px 1px 3px 1px rgba(0, 0, 0, 0.15);\n",
              "      filter: drop-shadow(0px 1px 2px rgba(0, 0, 0, 0.3));\n",
              "      fill: #FFFFFF;\n",
              "    }\n",
              "  </style>\n",
              "\n",
              "      <script>\n",
              "        const buttonEl =\n",
              "          document.querySelector('#df-b5945dd2-a348-4ae3-a34c-b9db84ec6b63 button.colab-df-convert');\n",
              "        buttonEl.style.display =\n",
              "          google.colab.kernel.accessAllowed ? 'block' : 'none';\n",
              "\n",
              "        async function convertToInteractive(key) {\n",
              "          const element = document.querySelector('#df-b5945dd2-a348-4ae3-a34c-b9db84ec6b63');\n",
              "          const dataTable =\n",
              "            await google.colab.kernel.invokeFunction('convertToInteractive',\n",
              "                                                     [key], {});\n",
              "          if (!dataTable) return;\n",
              "\n",
              "          const docLinkHtml = 'Like what you see? Visit the ' +\n",
              "            '<a target=\"_blank\" href=https://colab.research.google.com/notebooks/data_table.ipynb>data table notebook</a>'\n",
              "            + ' to learn more about interactive tables.';\n",
              "          element.innerHTML = '';\n",
              "          dataTable['output_type'] = 'display_data';\n",
              "          await google.colab.output.renderOutput(dataTable, element);\n",
              "          const docLink = document.createElement('div');\n",
              "          docLink.innerHTML = docLinkHtml;\n",
              "          element.appendChild(docLink);\n",
              "        }\n",
              "      </script>\n",
              "    </div>\n",
              "  </div>\n",
              "  "
            ],
            "text/plain": [
              "         step      type      amount  ...  oldbalanceDest  newbalanceDest  isFraud\n",
              "2           1  TRANSFER      181.00  ...            0.00            0.00        1\n",
              "3           1  CASH_OUT      181.00  ...        21182.00            0.00        1\n",
              "15          1  CASH_OUT   229133.94  ...         5083.00        51513.44        0\n",
              "19          1  TRANSFER   215310.30  ...        22425.00            0.00        0\n",
              "24          1  TRANSFER   311685.89  ...         6267.00      2719172.89        0\n",
              "...       ...       ...         ...  ...             ...             ...      ...\n",
              "6362615   743  CASH_OUT   339682.13  ...            0.00       339682.13        1\n",
              "6362616   743  TRANSFER  6311409.28  ...            0.00            0.00        1\n",
              "6362617   743  CASH_OUT  6311409.28  ...        68488.84      6379898.11        1\n",
              "6362618   743  TRANSFER   850002.52  ...            0.00            0.00        1\n",
              "6362619   743  CASH_OUT   850002.52  ...      6510099.11      7360101.63        1\n",
              "\n",
              "[2770409 rows x 8 columns]"
            ]
          },
          "metadata": {},
          "execution_count": 25
        }
      ]
    },
    {
      "cell_type": "markdown",
      "source": [
        "Taking note of the balances before and after transactions\n"
      ],
      "metadata": {
        "id": "2HhgPDdBgh_s"
      }
    },
    {
      "cell_type": "code",
      "source": [
        "wrong_orig_bal = sum(df[\"oldbalanceOrg\"] - df[\"amount\"] != df[\"newbalanceOrig\"])\n",
        "wrong_dest_bal = sum(df[\"newbalanceDest\"] + df[\"amount\"] != df[\"newbalanceDest\"])\n",
        "print(\"Percentage of observations with balance errors in the account giving money: \", 100*round(wrong_orig_bal/len(df),2))\n",
        "print(\"Percentage of observations with balance errors in the account receiving money: \", 100*round(wrong_dest_bal/len(df),2))"
      ],
      "metadata": {
        "colab": {
          "base_uri": "https://localhost:8080/"
        },
        "id": "eofei89cgg-h",
        "outputId": "d75200fd-4b4a-40bb-b7e8-1b253bb93b18"
      },
      "execution_count": null,
      "outputs": [
        {
          "output_type": "stream",
          "name": "stdout",
          "text": [
            "Percentage of observations with balance errors in the account giving money:  85.0\n",
            "Percentage of observations with balance errors in the account receiving money:  100.0\n"
          ]
        }
      ]
    },
    {
      "cell_type": "code",
      "source": [
        "# flatten the subsetted dataframe of floats into an array of floats\n",
        "relevant_cols = df[[\"amount\",\"oldbalanceOrg\",\"newbalanceOrig\",\"oldbalanceDest\",\"newbalanceDest\"]].values.flatten()\n",
        "# number of observations with negative numbers\n",
        "num_neg_amt = sum(n < 0 for n in relevant_cols)\n",
        "# number of observations where the amount given is greater than the amount that is in the sender's account\n",
        "num_amt_oldgiver = sum(df[\"amount\"] > df[\"oldbalanceOrg\"]) \n",
        "# number of observations where the amount received is greater than the amount that is in the receiver's account\n",
        "num_amt_newreceiver = sum(df[\"amount\"] > df[\"newbalanceDest\"]) \n",
        "\n",
        "print(\"number of observations with negative numbers: \", num_neg_amt)\n",
        "print(\"number of observations where the amount given is greater than the amount that is in the sender's account: \"\n",
        "      , num_amt_oldgiver)\n",
        "print(\"number of observations where the amount received is greater than the amount that is in the receiver's account: \"\n",
        "      , num_amt_newreceiver)"
      ],
      "metadata": {
        "colab": {
          "base_uri": "https://localhost:8080/"
        },
        "id": "0LimSt3TghBD",
        "outputId": "86e16963-0c8d-4b4f-d329-feb8f3eeaa3b"
      },
      "execution_count": null,
      "outputs": [
        {
          "output_type": "stream",
          "name": "stdout",
          "text": [
            "number of observations with negative numbers:  0\n",
            "number of observations where the amount given is greater than the amount that is in the sender's account:  4079080\n",
            "number of observations where the amount received is greater than the amount that is in the receiver's account:  2661141\n"
          ]
        }
      ]
    },
    {
      "cell_type": "markdown",
      "source": [
        "From the above results, we can conclude that :\n",
        "\n",
        "There is erronous results in the new and old balance accounts for both sender and receiver\n",
        "Some of this erronous results are due to fraudulent transactions\n",
        "We cannot get rid of this features as well so we will let them be and add a new feature called 'errorbalance'"
      ],
      "metadata": {
        "id": "KysaP83AhL6A"
      }
    },
    {
      "cell_type": "code",
      "source": [
        "df1[\"errorbalanceOrg\"] = df1.newbalanceOrig + df1.amount - df1.oldbalanceOrg\n",
        "df1[\"errorbalanceDest\"] = df1.oldbalanceDest + df1.amount - df1.newbalanceDest"
      ],
      "metadata": {
        "id": "DDRrG1aAghRz"
      },
      "execution_count": null,
      "outputs": []
    },
    {
      "cell_type": "code",
      "source": [
        "# Subsetting data into observations with fraud and valid transactions:\n",
        "fraud = df1[df1[\"isFraud\"] == 1]\n",
        "valid = df1[df1[\"isFraud\"] == 0]"
      ],
      "metadata": {
        "id": "0RAykGeWghWA"
      },
      "execution_count": null,
      "outputs": []
    },
    {
      "cell_type": "code",
      "source": [
        "print(\"Proportion of fraudulent transactions with errorBalanceDest > 0: \", len(fraud[fraud.errorbalanceDest > 0])/len(fraud))\n",
        "print(\"Proportion of valid transactions with errorBalanceDest > 0: \", len(valid[valid.errorbalanceDest > 0])/len(valid))\n",
        "print(\"Proportion of fraudulent transactions with errorBalanceOrg > 0: \", len(fraud[fraud.errorbalanceOrg > 0])/len(fraud))\n",
        "print(\"Proportion of valid transactions with errorBalanceOrg > 0: \", len(valid[valid.errorbalanceOrg > 0])/len(valid))"
      ],
      "metadata": {
        "colab": {
          "base_uri": "https://localhost:8080/"
        },
        "id": "gfR2pxvxghYh",
        "outputId": "be0d01ec-c34d-4f47-f14f-cf2ceb8cbbb3"
      },
      "execution_count": null,
      "outputs": [
        {
          "output_type": "stream",
          "name": "stdout",
          "text": [
            "Proportion of fraudulent transactions with errorBalanceDest > 0:  0.5712894192134421\n",
            "Proportion of valid transactions with errorBalanceDest > 0:  0.19744942067832985\n",
            "Proportion of fraudulent transactions with errorBalanceOrg > 0:  0.006331425788384269\n",
            "Proportion of valid transactions with errorBalanceOrg > 0:  0.9067180605576143\n"
          ]
        }
      ]
    },
    {
      "cell_type": "markdown",
      "source": [
        "Conclusions:\n",
        "\n",
        "Most of the transactions where errorbalanceDest > 0 has high chance of being fraud\n",
        "Valid transactions are most likely to have errorbalanceOrig > 0"
      ],
      "metadata": {
        "id": "Td7R8QoWh3Eu"
      }
    },
    {
      "cell_type": "code",
      "source": [
        "# Time patterns\n",
        "bins = 50\n",
        "valid.hist(column=\"step\",color=\"green\",bins=bins)\n",
        "plt.xlabel(\"1 hour time step\")\n",
        "plt.ylabel(\"# of transactions\")\n",
        "plt.title(\"# of valid transactions over time\")\n",
        "\n",
        "fraud.hist(column =\"step\",color=\"red\",bins=bins)\n",
        "plt.xlabel(\"1 hour time step\")\n",
        "plt.ylabel(\"# of transactions\")\n",
        "plt.title(\"# of fraud transactions over time\")\n",
        "\n",
        "plt.tight_layout()\n",
        "plt.show()"
      ],
      "metadata": {
        "colab": {
          "base_uri": "https://localhost:8080/",
          "height": 647
        },
        "id": "i70Ftjjmh2Wl",
        "outputId": "dfd6006d-f24a-4148-b78f-7630250236a1"
      },
      "execution_count": null,
      "outputs": [
        {
          "output_type": "execute_result",
          "data": {
            "text/plain": [
              "array([[<matplotlib.axes._subplots.AxesSubplot object at 0x7fd756b654d0>]],\n",
              "      dtype=object)"
            ]
          },
          "metadata": {},
          "execution_count": 32
        },
        {
          "output_type": "execute_result",
          "data": {
            "text/plain": [
              "Text(0.5, 0, '1 hour time step')"
            ]
          },
          "metadata": {},
          "execution_count": 32
        },
        {
          "output_type": "execute_result",
          "data": {
            "text/plain": [
              "Text(0, 0.5, '# of transactions')"
            ]
          },
          "metadata": {},
          "execution_count": 32
        },
        {
          "output_type": "execute_result",
          "data": {
            "text/plain": [
              "Text(0.5, 1.0, '# of valid transactions over time')"
            ]
          },
          "metadata": {},
          "execution_count": 32
        },
        {
          "output_type": "execute_result",
          "data": {
            "text/plain": [
              "array([[<matplotlib.axes._subplots.AxesSubplot object at 0x7fd756fcba50>]],\n",
              "      dtype=object)"
            ]
          },
          "metadata": {},
          "execution_count": 32
        },
        {
          "output_type": "execute_result",
          "data": {
            "text/plain": [
              "Text(0.5, 0, '1 hour time step')"
            ]
          },
          "metadata": {},
          "execution_count": 32
        },
        {
          "output_type": "execute_result",
          "data": {
            "text/plain": [
              "Text(0, 0.5, '# of transactions')"
            ]
          },
          "metadata": {},
          "execution_count": 32
        },
        {
          "output_type": "execute_result",
          "data": {
            "text/plain": [
              "Text(0.5, 1.0, '# of fraud transactions over time')"
            ]
          },
          "metadata": {},
          "execution_count": 32
        },
        {
          "output_type": "display_data",
          "data": {
            "image/png": "[encoded data removed]",
            "text/plain": [
              "<Figure size 432x288 with 1 Axes>"
            ]
          },
          "metadata": {
            "needs_background": "light"
          }
        },
        {
          "output_type": "display_data",
          "data": {
            "image/png": "[encoded data removed]",
            "text/plain": [
              "<Figure size 432x288 with 1 Axes>"
            ]
          },
          "metadata": {
            "needs_background": "light"
          }
        }
      ]
    },
    {
      "cell_type": "markdown",
      "source": [
        "The fraud transactions dont change much throughout the time frame"
      ],
      "metadata": {
        "id": "UyvXR3MKiwc2"
      }
    },
    {
      "cell_type": "code",
      "source": [
        "num_days = 7\n",
        "num_hours = 24\n",
        "fraud_days = fraud.step % num_days\n",
        "fraud_hours = fraud.step % num_hours\n",
        "valid_days = valid.step % num_days\n",
        "valid_hours = valid.step % num_hours\n",
        "\n",
        "# plotting scatterplot of the days of the week, identifying the fraudulent transactions (red) from the valid transactions (green) \n",
        "plt.subplot(1, 2, 1)\n",
        "fraud_days.hist(bins=num_days,color=\"red\")\n",
        "plt.title('Fraud transactions by Day')\n",
        "plt.xlabel('Day of the Week')\n",
        "plt.ylabel(\"# of transactions\")\n",
        "\n",
        "plt.subplot(1,2,2)\n",
        "valid_days.hist(bins=num_days,color=\"green\")\n",
        "plt.title('Valid transactions by Day')\n",
        "plt.xlabel('Day of the Week')\n",
        "plt.ylabel(\"# of transactions\")\n",
        "\n",
        "plt.tight_layout()\n",
        "plt.show()"
      ],
      "metadata": {
        "colab": {
          "base_uri": "https://localhost:8080/",
          "height": 386
        },
        "id": "wTAaagR0eFDy",
        "outputId": "821f0208-e36a-4163-b9bc-0c42d7176522"
      },
      "execution_count": null,
      "outputs": [
        {
          "output_type": "execute_result",
          "data": {
            "text/plain": [
              "<matplotlib.axes._subplots.AxesSubplot at 0x7fd760a0b250>"
            ]
          },
          "metadata": {},
          "execution_count": 33
        },
        {
          "output_type": "execute_result",
          "data": {
            "text/plain": [
              "<matplotlib.axes._subplots.AxesSubplot at 0x7fd760a0b250>"
            ]
          },
          "metadata": {},
          "execution_count": 33
        },
        {
          "output_type": "execute_result",
          "data": {
            "text/plain": [
              "Text(0.5, 1.0, 'Fraud transactions by Day')"
            ]
          },
          "metadata": {},
          "execution_count": 33
        },
        {
          "output_type": "execute_result",
          "data": {
            "text/plain": [
              "Text(0.5, 0, 'Day of the Week')"
            ]
          },
          "metadata": {},
          "execution_count": 33
        },
        {
          "output_type": "execute_result",
          "data": {
            "text/plain": [
              "Text(0, 0.5, '# of transactions')"
            ]
          },
          "metadata": {},
          "execution_count": 33
        },
        {
          "output_type": "execute_result",
          "data": {
            "text/plain": [
              "<matplotlib.axes._subplots.AxesSubplot at 0x7fd7604c6050>"
            ]
          },
          "metadata": {},
          "execution_count": 33
        },
        {
          "output_type": "execute_result",
          "data": {
            "text/plain": [
              "<matplotlib.axes._subplots.AxesSubplot at 0x7fd7604c6050>"
            ]
          },
          "metadata": {},
          "execution_count": 33
        },
        {
          "output_type": "execute_result",
          "data": {
            "text/plain": [
              "Text(0.5, 1.0, 'Valid transactions by Day')"
            ]
          },
          "metadata": {},
          "execution_count": 33
        },
        {
          "output_type": "execute_result",
          "data": {
            "text/plain": [
              "Text(0.5, 0, 'Day of the Week')"
            ]
          },
          "metadata": {},
          "execution_count": 33
        },
        {
          "output_type": "execute_result",
          "data": {
            "text/plain": [
              "Text(0, 0.5, '# of transactions')"
            ]
          },
          "metadata": {},
          "execution_count": 33
        },
        {
          "output_type": "display_data",
          "data": {
            "image/png": "[encoded data removed]",
            "text/plain": [
              "<Figure size 432x288 with 2 Axes>"
            ]
          },
          "metadata": {
            "needs_background": "light"
          }
        }
      ]
    },
    {
      "cell_type": "code",
      "source": [
        "#plotting  of the hours of days, identifying the fraudulent transactions (red) from the valid transactions (green) \n",
        "plt.subplot(1, 2, 1)\n",
        "fraud_hours.hist(bins=num_hours, color=\"red\")\n",
        "plt.title('Fraud transactions by Hour')\n",
        "plt.xlabel('Hour of the Day')\n",
        "plt.ylabel(\"# of transactions\")\n",
        "\n",
        "\n",
        "plt.subplot(1, 2, 2)\n",
        "valid_hours.hist(bins=num_hours, color=\"green\")\n",
        "plt.title('Valid transactions by Hour')\n",
        "plt.xlabel('Hour of the Day')\n",
        "plt.ylabel(\"# of transactions\")\n",
        "\n",
        "plt.tight_layout()\n",
        "plt.show()"
      ],
      "metadata": {
        "colab": {
          "base_uri": "https://localhost:8080/",
          "height": 386
        },
        "id": "ojkF8m4QeFGg",
        "outputId": "88022ec9-d8e3-4f94-9344-4ad5d0060277"
      },
      "execution_count": null,
      "outputs": [
        {
          "output_type": "execute_result",
          "data": {
            "text/plain": [
              "<matplotlib.axes._subplots.AxesSubplot at 0x7fd76c73c210>"
            ]
          },
          "metadata": {},
          "execution_count": 36
        },
        {
          "output_type": "execute_result",
          "data": {
            "text/plain": [
              "<matplotlib.axes._subplots.AxesSubplot at 0x7fd76c73c210>"
            ]
          },
          "metadata": {},
          "execution_count": 36
        },
        {
          "output_type": "execute_result",
          "data": {
            "text/plain": [
              "Text(0.5, 1.0, 'Fraud transactions by Hour')"
            ]
          },
          "metadata": {},
          "execution_count": 36
        },
        {
          "output_type": "execute_result",
          "data": {
            "text/plain": [
              "Text(0.5, 0, 'Hour of the Day')"
            ]
          },
          "metadata": {},
          "execution_count": 36
        },
        {
          "output_type": "execute_result",
          "data": {
            "text/plain": [
              "Text(0, 0.5, '# of transactions')"
            ]
          },
          "metadata": {},
          "execution_count": 36
        },
        {
          "output_type": "execute_result",
          "data": {
            "text/plain": [
              "<matplotlib.axes._subplots.AxesSubplot at 0x7fd757462f10>"
            ]
          },
          "metadata": {},
          "execution_count": 36
        },
        {
          "output_type": "execute_result",
          "data": {
            "text/plain": [
              "<matplotlib.axes._subplots.AxesSubplot at 0x7fd757462f10>"
            ]
          },
          "metadata": {},
          "execution_count": 36
        },
        {
          "output_type": "execute_result",
          "data": {
            "text/plain": [
              "Text(0.5, 1.0, 'Valid transactions by Hour')"
            ]
          },
          "metadata": {},
          "execution_count": 36
        },
        {
          "output_type": "execute_result",
          "data": {
            "text/plain": [
              "Text(0.5, 0, 'Hour of the Day')"
            ]
          },
          "metadata": {},
          "execution_count": 36
        },
        {
          "output_type": "execute_result",
          "data": {
            "text/plain": [
              "Text(0, 0.5, '# of transactions')"
            ]
          },
          "metadata": {},
          "execution_count": 36
        },
        {
          "output_type": "display_data",
          "data": {
            "image/png": "[encoded data removed]",
            "text/plain": [
              "<Figure size 432x288 with 2 Axes>"
            ]
          },
          "metadata": {
            "needs_background": "light"
          }
        }
      ]
    },
    {
      "cell_type": "markdown",
      "source": [
        "From the graphs above, there is strong evidence to suggest that from hour 0 to hour 9, valid transactions very rarely occur. On the other hand, fraudulent transactions still occur at similar rates to any hour of the day"
      ],
      "metadata": {
        "id": "WgiHEEkkjIuc"
      }
    },
    {
      "cell_type": "code",
      "source": [
        "dataset = df1.copy()\n",
        "\n",
        "# adding feature HourOfDay to Dataset1 \n",
        "dataset[\"HourOfDay\"] = np.nan # initializing feature column\n",
        "dataset.HourOfDay = df1.step % 24\n",
        "print(\"Head of dataset1: \\n\", pd.DataFrame.head(dataset))"
      ],
      "metadata": {
        "colab": {
          "base_uri": "https://localhost:8080/"
        },
        "id": "kTmNcNyijBMG",
        "outputId": "df4a6b97-32bb-4b01-e123-f11228d5465b"
      },
      "execution_count": null,
      "outputs": [
        {
          "output_type": "stream",
          "name": "stdout",
          "text": [
            "Head of dataset1: \n",
            "     step      type     amount  ...  errorbalanceOrg  errorbalanceDest  HourOfDay\n",
            "2      1  TRANSFER     181.00  ...             0.00             181.0          1\n",
            "3      1  CASH_OUT     181.00  ...             0.00           21363.0          1\n",
            "15     1  CASH_OUT  229133.94  ...        213808.94          182703.5          1\n",
            "19     1  TRANSFER  215310.30  ...        214605.30          237735.3          1\n",
            "24     1  TRANSFER  311685.89  ...        300850.89        -2401220.0          1\n",
            "\n",
            "[5 rows x 11 columns]\n"
          ]
        }
      ]
    },
    {
      "cell_type": "code",
      "source": [
        "def Correlation(df, bar=0.9):\n",
        "  # Creates correlation matrix\n",
        "  Corr = df.corr()\n",
        "  # Set Up Mask To Hide Upper Triangle\n",
        "  mask = np.triu(np.ones_like(Corr, dtype=bool))\n",
        "  tri_df = Corr.mask(mask)\n",
        "  # Finding features with correlation value more than specified threshold value (bar=0.9)\n",
        "  highly_cor_col = [col for col in tri_df.columns if any(tri_df[col] > bar )]\n",
        "  print(\"Highly correlated columns\",highly_cor_col)\n",
        "  #Heat map for correlation matrix of attributes\n",
        "  fig,ax=plt.subplots(figsize=(15,8))\n",
        "  sns.heatmap(Corr,mask=mask,vmax=1.00,vmin=-1.00,square=True,annot=True,ax=ax)\n",
        "  ax.set_title('Correlation matrix of attributes')\n",
        "  plt.show()\n",
        "\n",
        "  # Drop the highly correlated columns\n",
        "  #reduced_df = df.drop(highly_cor_col, axis = 1)\n",
        "  #print(\"shape of total data\",df.shape,\"shape of reduced data\",reduced_df.shape)\n",
        "  return df\n",
        "  \n",
        "df1=Correlation(df)"
      ],
      "metadata": {
        "id": "SqksK_yIU_T6",
        "colab": {
          "base_uri": "https://localhost:8080/",
          "height": 589
        },
        "outputId": "9c715d46-cccb-451d-fc09-d055a6967b9c"
      },
      "execution_count": null,
      "outputs": [
        {
          "output_type": "stream",
          "name": "stdout",
          "text": [
            "Highly correlated columns ['oldbalanceOrg', 'oldbalanceDest']\n"
          ]
        },
        {
          "output_type": "display_data",
          "data": {
            "image/png": "[encoded data removed]",
            "text/plain": [
              "<Figure size 1080x576 with 2 Axes>"
            ]
          },
          "metadata": {
            "needs_background": "light"
          }
        }
      ]
    },
    {
      "cell_type": "code",
      "source": [
        "print('\\n NON-FRAUD CASE AMOUNT STATS ')\n",
        "print(valid['amount'].describe())\n",
        "print('\\n FRAUD CASE AMOUNT STATS')\n",
        "print(fraud['amount'].describe())"
      ],
      "metadata": {
        "colab": {
          "base_uri": "https://localhost:8080/"
        },
        "id": "MW_gAHJTjBY7",
        "outputId": "419b96be-77b0-4234-aab7-96a5d40d8e3e"
      },
      "execution_count": null,
      "outputs": [
        {
          "output_type": "stream",
          "name": "stdout",
          "text": [
            "\n",
            " NON-FRAUD CASE AMOUNT STATS \n",
            "count    2.762196e+06\n",
            "mean     3.141155e+05\n",
            "std      8.771441e+05\n",
            "min      1.000000e-02\n",
            "25%      8.290823e+04\n",
            "50%      1.710345e+05\n",
            "75%      3.059942e+05\n",
            "max      9.244552e+07\n",
            "Name: amount, dtype: float64\n",
            "\n",
            " FRAUD CASE AMOUNT STATS\n",
            "count    8.213000e+03\n",
            "mean     1.467967e+06\n",
            "std      2.404253e+06\n",
            "min      0.000000e+00\n",
            "25%      1.270913e+05\n",
            "50%      4.414234e+05\n",
            "75%      1.517771e+06\n",
            "max      1.000000e+07\n",
            "Name: amount, dtype: float64\n"
          ]
        }
      ]
    },
    {
      "cell_type": "markdown",
      "source": [
        "Handling Categorical Variables"
      ],
      "metadata": {
        "id": "gm6K-x-lkEcX"
      }
    },
    {
      "cell_type": "code",
      "source": [
        "dataset = pd.get_dummies(dataset,prefix=['type'])\n",
        "dataset.head()"
      ],
      "metadata": {
        "colab": {
          "base_uri": "https://localhost:8080/",
          "height": 270
        },
        "id": "tmK85hjgjoLj",
        "outputId": "a4e9cdb6-d518-4466-e42b-5e6752092469"
      },
      "execution_count": null,
      "outputs": [
        {
          "output_type": "execute_result",
          "data": {
            "text/html": [
              "\n",
              "  <div id=\"df-25c5304d-cb03-4631-a1e1-9941889e3751\">\n",
              "    <div class=\"colab-df-container\">\n",
              "      <div>\n",
              "<style scoped>\n",
              "    .dataframe tbody tr th:only-of-type {\n",
              "        vertical-align: middle;\n",
              "    }\n",
              "\n",
              "    .dataframe tbody tr th {\n",
              "        vertical-align: top;\n",
              "    }\n",
              "\n",
              "    .dataframe thead th {\n",
              "        text-align: right;\n",
              "    }\n",
              "</style>\n",
              "<table border=\"1\" class=\"dataframe\">\n",
              "  <thead>\n",
              "    <tr style=\"text-align: right;\">\n",
              "      <th></th>\n",
              "      <th>step</th>\n",
              "      <th>amount</th>\n",
              "      <th>oldbalanceOrg</th>\n",
              "      <th>newbalanceOrig</th>\n",
              "      <th>oldbalanceDest</th>\n",
              "      <th>newbalanceDest</th>\n",
              "      <th>isFraud</th>\n",
              "      <th>errorbalanceOrg</th>\n",
              "      <th>errorbalanceDest</th>\n",
              "      <th>HourOfDay</th>\n",
              "      <th>type_CASH_OUT</th>\n",
              "      <th>type_TRANSFER</th>\n",
              "    </tr>\n",
              "  </thead>\n",
              "  <tbody>\n",
              "    <tr>\n",
              "      <th>2</th>\n",
              "      <td>1</td>\n",
              "      <td>181.00</td>\n",
              "      <td>181.0</td>\n",
              "      <td>0.0</td>\n",
              "      <td>0.0</td>\n",
              "      <td>0.00</td>\n",
              "      <td>1</td>\n",
              "      <td>0.00</td>\n",
              "      <td>181.0</td>\n",
              "      <td>1</td>\n",
              "      <td>0</td>\n",
              "      <td>1</td>\n",
              "    </tr>\n",
              "    <tr>\n",
              "      <th>3</th>\n",
              "      <td>1</td>\n",
              "      <td>181.00</td>\n",
              "      <td>181.0</td>\n",
              "      <td>0.0</td>\n",
              "      <td>21182.0</td>\n",
              "      <td>0.00</td>\n",
              "      <td>1</td>\n",
              "      <td>0.00</td>\n",
              "      <td>21363.0</td>\n",
              "      <td>1</td>\n",
              "      <td>1</td>\n",
              "      <td>0</td>\n",
              "    </tr>\n",
              "    <tr>\n",
              "      <th>15</th>\n",
              "      <td>1</td>\n",
              "      <td>229133.94</td>\n",
              "      <td>15325.0</td>\n",
              "      <td>0.0</td>\n",
              "      <td>5083.0</td>\n",
              "      <td>51513.44</td>\n",
              "      <td>0</td>\n",
              "      <td>213808.94</td>\n",
              "      <td>182703.5</td>\n",
              "      <td>1</td>\n",
              "      <td>1</td>\n",
              "      <td>0</td>\n",
              "    </tr>\n",
              "    <tr>\n",
              "      <th>19</th>\n",
              "      <td>1</td>\n",
              "      <td>215310.30</td>\n",
              "      <td>705.0</td>\n",
              "      <td>0.0</td>\n",
              "      <td>22425.0</td>\n",
              "      <td>0.00</td>\n",
              "      <td>0</td>\n",
              "      <td>214605.30</td>\n",
              "      <td>237735.3</td>\n",
              "      <td>1</td>\n",
              "      <td>0</td>\n",
              "      <td>1</td>\n",
              "    </tr>\n",
              "    <tr>\n",
              "      <th>24</th>\n",
              "      <td>1</td>\n",
              "      <td>311685.89</td>\n",
              "      <td>10835.0</td>\n",
              "      <td>0.0</td>\n",
              "      <td>6267.0</td>\n",
              "      <td>2719172.89</td>\n",
              "      <td>0</td>\n",
              "      <td>300850.89</td>\n",
              "      <td>-2401220.0</td>\n",
              "      <td>1</td>\n",
              "      <td>0</td>\n",
              "      <td>1</td>\n",
              "    </tr>\n",
              "  </tbody>\n",
              "</table>\n",
              "</div>\n",
              "      <button class=\"colab-df-convert\" onclick=\"convertToInteractive('df-25c5304d-cb03-4631-a1e1-9941889e3751')\"\n",
              "              title=\"Convert this dataframe to an interactive table.\"\n",
              "              style=\"display:none;\">\n",
              "        \n",
              "  <svg xmlns=\"http://www.w3.org/2000/svg\" height=\"24px\"viewBox=\"0 0 24 24\"\n",
              "       width=\"24px\">\n",
              "    <path d=\"M0 0h24v24H0V0z\" fill=\"none\"/>\n",
              "    <path d=\"M18.56 5.44l.94 2.06.94-2.06 2.06-.94-2.06-.94-.94-2.06-.94 2.06-2.06.94zm-11 1L8.5 8.5l.94-2.06 2.06-.94-2.06-.94L8.5 2.5l-.94 2.06-2.06.94zm10 10l.94 2.06.94-2.06 2.06-.94-2.06-.94-.94-2.06-.94 2.06-2.06.94z\"/><path d=\"M17.41 7.96l-1.37-1.37c-.4-.4-.92-.59-1.43-.59-.52 0-1.04.2-1.43.59L10.3 9.45l-7.72 7.72c-.78.78-.78 2.05 0 2.83L4 21.41c.39.39.9.59 1.41.59.51 0 1.02-.2 1.41-.59l7.78-7.78 2.81-2.81c.8-.78.8-2.07 0-2.86zM5.41 20L4 18.59l7.72-7.72 1.47 1.35L5.41 20z\"/>\n",
              "  </svg>\n",
              "      </button>\n",
              "      \n",
              "  <style>\n",
              "    .colab-df-container {\n",
              "      display:flex;\n",
              "      flex-wrap:wrap;\n",
              "      gap: 12px;\n",
              "    }\n",
              "\n",
              "    .colab-df-convert {\n",
              "      background-color: #E8F0FE;\n",
              "      border: none;\n",
              "      border-radius: 50%;\n",
              "      cursor: pointer;\n",
              "      display: none;\n",
              "      fill: #1967D2;\n",
              "      height: 32px;\n",
              "      padding: 0 0 0 0;\n",
              "      width: 32px;\n",
              "    }\n",
              "\n",
              "    .colab-df-convert:hover {\n",
              "      background-color: #E2EBFA;\n",
              "      box-shadow: 0px 1px 2px rgba(60, 64, 67, 0.3), 0px 1px 3px 1px rgba(60, 64, 67, 0.15);\n",
              "      fill: #174EA6;\n",
              "    }\n",
              "\n",
              "    [theme=dark] .colab-df-convert {\n",
              "      background-color: #3B4455;\n",
              "      fill: #D2E3FC;\n",
              "    }\n",
              "\n",
              "    [theme=dark] .colab-df-convert:hover {\n",
              "      background-color: #434B5C;\n",
              "      box-shadow: 0px 1px 3px 1px rgba(0, 0, 0, 0.15);\n",
              "      filter: drop-shadow(0px 1px 2px rgba(0, 0, 0, 0.3));\n",
              "      fill: #FFFFFF;\n",
              "    }\n",
              "  </style>\n",
              "\n",
              "      <script>\n",
              "        const buttonEl =\n",
              "          document.querySelector('#df-25c5304d-cb03-4631-a1e1-9941889e3751 button.colab-df-convert');\n",
              "        buttonEl.style.display =\n",
              "          google.colab.kernel.accessAllowed ? 'block' : 'none';\n",
              "\n",
              "        async function convertToInteractive(key) {\n",
              "          const element = document.querySelector('#df-25c5304d-cb03-4631-a1e1-9941889e3751');\n",
              "          const dataTable =\n",
              "            await google.colab.kernel.invokeFunction('convertToInteractive',\n",
              "                                                     [key], {});\n",
              "          if (!dataTable) return;\n",
              "\n",
              "          const docLinkHtml = 'Like what you see? Visit the ' +\n",
              "            '<a target=\"_blank\" href=https://colab.research.google.com/notebooks/data_table.ipynb>data table notebook</a>'\n",
              "            + ' to learn more about interactive tables.';\n",
              "          element.innerHTML = '';\n",
              "          dataTable['output_type'] = 'display_data';\n",
              "          await google.colab.output.renderOutput(dataTable, element);\n",
              "          const docLink = document.createElement('div');\n",
              "          docLink.innerHTML = docLinkHtml;\n",
              "          element.appendChild(docLink);\n",
              "        }\n",
              "      </script>\n",
              "    </div>\n",
              "  </div>\n",
              "  "
            ],
            "text/plain": [
              "    step     amount  oldbalanceOrg  ...  HourOfDay  type_CASH_OUT  type_TRANSFER\n",
              "2      1     181.00          181.0  ...          1              0              1\n",
              "3      1     181.00          181.0  ...          1              1              0\n",
              "15     1  229133.94        15325.0  ...          1              1              0\n",
              "19     1  215310.30          705.0  ...          1              0              1\n",
              "24     1  311685.89        10835.0  ...          1              0              1\n",
              "\n",
              "[5 rows x 12 columns]"
            ]
          },
          "metadata": {},
          "execution_count": 40
        }
      ]
    },
    {
      "cell_type": "code",
      "source": [
        "from random import seed,sample\n",
        "from sklearn.model_selection import train_test_split\n",
        "from sklearn.preprocessing import StandardScaler\n",
        "\n",
        "seed(21)\n",
        "\n",
        "X = dataset.drop(\"isFraud\",1)\n",
        "Y = dataset.isFraud\n",
        "X_train, X_test, y_train, y_test = train_test_split(X, Y, test_size = 0.2, random_state = 42)\n",
        "\n",
        "# Normalizing data so that all variables follow the same scale (0 to 1)\n",
        "scaler = StandardScaler()\n",
        "\n",
        "# Fit only to the training data\n",
        "scaler.fit(X_train)\n",
        "\n",
        "# Now apply the transformations to the data:\n",
        "X_train = scaler.transform(X_train)\n",
        "X_test = scaler.transform(X_test)"
      ],
      "metadata": {
        "colab": {
          "base_uri": "https://localhost:8080/"
        },
        "id": "yehFqQetjoWv",
        "outputId": "a41cfe94-3f4d-4aa5-9fdc-ace9451ebdb5"
      },
      "execution_count": null,
      "outputs": [
        {
          "output_type": "execute_result",
          "data": {
            "text/plain": [
              "StandardScaler()"
            ]
          },
          "metadata": {},
          "execution_count": 43
        }
      ]
    },
    {
      "cell_type": "code",
      "source": [
        "print(\"Shape of X_train: \", X_train.shape)\n",
        "print(\"Shape of X_test: \", X_test.shape)"
      ],
      "metadata": {
        "colab": {
          "base_uri": "https://localhost:8080/"
        },
        "id": "jmpIncopjoZX",
        "outputId": "cac5b832-abbd-4e03-9aa1-430083a11e52"
      },
      "execution_count": null,
      "outputs": [
        {
          "output_type": "stream",
          "name": "stdout",
          "text": [
            "Shape of X_train:  (2216327, 11)\n",
            "Shape of X_test:  (554082, 11)\n"
          ]
        }
      ]
    },
    {
      "cell_type": "markdown",
      "source": [
        "The data is extremely skewed, so we will test the models on unbalanced datd first and then perform Resampling technique(OVERSAMPLING or UNDERSAMPLING)to make it a balanced dataset"
      ],
      "metadata": {
        "id": "qY8UF3MSlgmm"
      }
    },
    {
      "cell_type": "code",
      "source": [
        "from sklearn.tree import DecisionTreeClassifier # Decision tree algorithm\n",
        "from sklearn.ensemble import RandomForestClassifier # Random forest tree algorithm\n",
        "from xgboost import XGBClassifier # XGBoost algorithm\n",
        "from sklearn.metrics import average_precision_score\n",
        "from sklearn.metrics import classification_report,confusion_matrix,accuracy_score, roc_curve, auc, precision_score"
      ],
      "metadata": {
        "id": "O4HSjH5_jodg"
      },
      "execution_count": null,
      "outputs": []
    },
    {
      "cell_type": "code",
      "source": [
        "# Train model\n",
        "parametersRF = {'n_estimators':15,'class_weight': \"balanced\",'n_jobs':-1,'random_state':42}\n",
        "RF = RandomForestClassifier(**parametersRF)\n",
        "fitted_vals = RF.fit(X_train, y_train)\n",
        "# Predict on testing set\n",
        "predictionsRF = RF.predict(X_test)\n",
        "   \n",
        "# Evaluating model\n",
        "CM_RF = confusion_matrix(y_test,predictionsRF)\n",
        "CR_RF = classification_report(y_test,predictionsRF)\n",
        "fprRF, recallRF, thresholdsRF = roc_curve(y_test, predictionsRF)\n",
        "AUC_RF = auc(fprRF, recallRF)\n",
        "\n",
        "resultsRF = {\"Confusion Matrix\":CM_RF,\"Classification Report\":CR_RF,\"Area Under Curve\":AUC_RF}\n",
        "\n",
        "# showing results from Random Forest\n",
        "for measure in resultsRF:\n",
        "    print(measure,\": \\n\",resultsRF[measure])"
      ],
      "metadata": {
        "colab": {
          "base_uri": "https://localhost:8080/"
        },
        "id": "5pXlwV4bjogA",
        "outputId": "7cb666ef-2e11-44c8-e235-77b84f1c7cf6"
      },
      "execution_count": null,
      "outputs": [
        {
          "output_type": "stream",
          "name": "stdout",
          "text": [
            "Confusion Matrix : \n",
            " [[552436      0]\n",
            " [    10   1636]]\n",
            "Classification Report : \n",
            "               precision    recall  f1-score   support\n",
            "\n",
            "           0       1.00      1.00      1.00    552436\n",
            "           1       1.00      0.99      1.00      1646\n",
            "\n",
            "    accuracy                           1.00    554082\n",
            "   macro avg       1.00      1.00      1.00    554082\n",
            "weighted avg       1.00      1.00      1.00    554082\n",
            "\n",
            "Area Under Curve : \n",
            " 0.996962332928311\n"
          ]
        }
      ]
    },
    {
      "cell_type": "code",
      "source": [
        "# Train model2\n",
        "DT = DecisionTreeClassifier()\n",
        "fitted_vals = DT.fit(X_train, y_train)\n",
        " \n",
        "# Predict on testing set\n",
        "predictionsDT = DT.predict(X_test)\n",
        " \n",
        "     \n",
        "# Evaluating model\n",
        "CM_DT = confusion_matrix(y_test,predictionsDT)\n",
        "CR_DT = classification_report(y_test,predictionsDT)\n",
        "fprDT, recallDT, thresholdsDT = roc_curve(y_test, predictionsDT)\n",
        "AUC_DT = auc(fprDT, recallDT)\n",
        "\n",
        "resultsDT = {\"Confusion Matrix\":CM_DT,\"Classification Report\":CR_DT,\"Area Under Curve\":AUC_DT}\n",
        "\n",
        "# showing results from Random Forest\n",
        "\n",
        "for measure in resultsDT:\n",
        "    print(measure,\": \\n\",resultsDT[measure])"
      ],
      "metadata": {
        "colab": {
          "base_uri": "https://localhost:8080/"
        },
        "id": "fwiJRngzl3dO",
        "outputId": "4659f358-1735-4846-94d1-028271f6f307"
      },
      "execution_count": null,
      "outputs": [
        {
          "output_type": "stream",
          "name": "stdout",
          "text": [
            "Confusion Matrix : \n",
            " [[552426     10]\n",
            " [    11   1635]]\n",
            "Classification Report : \n",
            "               precision    recall  f1-score   support\n",
            "\n",
            "           0       1.00      1.00      1.00    552436\n",
            "           1       0.99      0.99      0.99      1646\n",
            "\n",
            "    accuracy                           1.00    554082\n",
            "   macro avg       1.00      1.00      1.00    554082\n",
            "weighted avg       1.00      1.00      1.00    554082\n",
            "\n",
            "Area Under Curve : \n",
            " 0.9966495153989655\n"
          ]
        }
      ]
    },
    {
      "cell_type": "code",
      "source": [
        "# Train model3\n",
        "parametersXGB = {'max_depth':3,'class_weight': \"balanced\",'n_jobs':-1,'random_state':42,'learning_rate':0.1}\n",
        "XGB = XGBClassifier(**parametersXGB)\n",
        "    \n",
        "    \n",
        "fitted_vals = XGB.fit(X_train, y_train)\n",
        " \n",
        "# Predict on testing set\n",
        "predictionsXGB = XGB.predict(X_test)\n",
        " \n",
        "     \n",
        "# Evaluating model\n",
        "CM_XGB = confusion_matrix(y_test,predictionsXGB)\n",
        "CR_XGB = classification_report(y_test,predictionsXGB)\n",
        "fprXGB, recallXGB, thresholds_XGB = roc_curve(y_test, predictionsXGB)\n",
        "AUC_XGB = auc(fprXGB, recallXGB)\n",
        "resultsXGB = {\"Confusion Matrix\":CM_XGB,\"Classification Report\":CR_XGB,\"Area Under Curve\":AUC_XGB}\n",
        "# showing results from Extreme Gradient Boosting\n",
        "for measure in resultsXGB:\n",
        "    print(measure,\": \\n\",resultsXGB[measure],\"\\n\")"
      ],
      "metadata": {
        "colab": {
          "base_uri": "https://localhost:8080/"
        },
        "id": "YzwmvVlrjojC",
        "outputId": "aa8dac22-8d86-4348-ea86-a652b9bc6e37"
      },
      "execution_count": null,
      "outputs": [
        {
          "output_type": "stream",
          "name": "stdout",
          "text": [
            "Confusion Matrix : \n",
            " [[552436      0]\n",
            " [  1646      0]] \n",
            "\n",
            "Classification Report : \n",
            "               precision    recall  f1-score   support\n",
            "\n",
            "           0       1.00      1.00      1.00    552436\n",
            "           1       0.00      0.00      0.00      1646\n",
            "\n",
            "    accuracy                           1.00    554082\n",
            "   macro avg       0.50      0.50      0.50    554082\n",
            "weighted avg       0.99      1.00      1.00    554082\n",
            " \n",
            "\n",
            "Area Under Curve : \n",
            " 0.5 \n",
            "\n"
          ]
        }
      ]
    },
    {
      "cell_type": "code",
      "source": [
        "print(\"Classification Report of Random Forest: \\n\", CR_RF)\n",
        "print(\"Classification Report of Decision trees: \\n\", CR_DT)\n",
        "print(\"Classification Report of XGB trees: \\n\", CR_XGB)"
      ],
      "metadata": {
        "colab": {
          "base_uri": "https://localhost:8080/"
        },
        "id": "Jo5EK8mAjolq",
        "outputId": "efb9419e-74fe-4220-aa95-829539c884d6"
      },
      "execution_count": null,
      "outputs": [
        {
          "output_type": "stream",
          "name": "stdout",
          "text": [
            "Classification Report of Random Forest: \n",
            "               precision    recall  f1-score   support\n",
            "\n",
            "           0       1.00      1.00      1.00    552436\n",
            "           1       1.00      0.99      1.00      1646\n",
            "\n",
            "    accuracy                           1.00    554082\n",
            "   macro avg       1.00      1.00      1.00    554082\n",
            "weighted avg       1.00      1.00      1.00    554082\n",
            "\n",
            "Classification Report of Decision trees: \n",
            "               precision    recall  f1-score   support\n",
            "\n",
            "           0       1.00      1.00      1.00    552436\n",
            "           1       0.99      0.99      0.99      1646\n",
            "\n",
            "    accuracy                           1.00    554082\n",
            "   macro avg       1.00      1.00      1.00    554082\n",
            "weighted avg       1.00      1.00      1.00    554082\n",
            "\n",
            "Classification Report of XGB trees: \n",
            "               precision    recall  f1-score   support\n",
            "\n",
            "           0       1.00      1.00      1.00    552436\n",
            "           1       0.00      0.00      0.00      1646\n",
            "\n",
            "    accuracy                           1.00    554082\n",
            "   macro avg       0.50      0.50      0.50    554082\n",
            "weighted avg       0.99      1.00      1.00    554082\n",
            "\n"
          ]
        }
      ]
    },
    {
      "cell_type": "markdown",
      "source": [
        "\n",
        "Handling Imbalanced Data\n",
        "\n",
        "One way to do oversampling is to replicate the under-presented class tuples until we attain a correct proportion between the class.\n"
      ],
      "metadata": {
        "id": "AjVcHrfPmYJq"
      }
    },
    {
      "cell_type": "code",
      "source": [
        "# We seperate ours data in two groups : a train dataset and a test dataset\n",
        "\n",
        "# First we build our train dataset\n",
        "df_train_all = dataset[0:] # We cut in two the original dataset\n",
        "df_train_1 = df_train_all[df_train_all['isFraud'] == 1] # We seperate the data which are the frauds and the no frauds\n",
        "df_train_0 = df_train_all[df_train_all['isFraud'] == 0]\n",
        "print('In this dataset, we have ' + str(len(df_train_1)) +\" frauds so we need to take a similar number of non-fraud\")\n",
        "\n",
        "df_sample=df_train_0.sample(8213)\n",
        "df_train = df_train_1.append(df_sample) # We gather the frauds with the no frauds. \n",
        "df_train = df_train.sample(frac=1) # Then we mix our dataset"
      ],
      "metadata": {
        "colab": {
          "base_uri": "https://localhost:8080/"
        },
        "id": "EpovsWdKmXF7",
        "outputId": "064c65fa-9cf7-464c-e5da-bf0db5aee97a"
      },
      "execution_count": null,
      "outputs": [
        {
          "output_type": "stream",
          "name": "stdout",
          "text": [
            "In this dataset, we have 8213 frauds so we need to take a similar number of non-fraud\n"
          ]
        }
      ]
    },
    {
      "cell_type": "code",
      "source": [
        "from collections import Counter\n",
        "from sklearn.datasets import make_classification\n",
        "from imblearn.under_sampling import RandomUnderSampler \n",
        "rus = RandomUnderSampler(random_state=42)\n",
        "X_resampled, Y_resampled = rus.fit_resample(X, Y)\n",
        "print(\"Resampled shape of X: \", X_resampled.shape)\n",
        "print(\"Resampled shape of Y: \", Y_resampled.shape)\n",
        "value_counts = Counter(Y_resampled)\n",
        "print(value_counts)\n",
        "train_X, test_X, train_Y, test_Y = train_test_split(X_resampled, Y_resampled, test_size= 0.3, random_state= 42)"
      ],
      "metadata": {
        "colab": {
          "base_uri": "https://localhost:8080/"
        },
        "id": "U9Z3qdLLmXRf",
        "outputId": "c9208805-8e19-4f51-97cb-b018802b6e83"
      },
      "execution_count": null,
      "outputs": [
        {
          "output_type": "stream",
          "name": "stdout",
          "text": [
            "Resampled shape of X:  (16426, 11)\n",
            "Resampled shape of Y:  (16426,)\n",
            "Counter({0: 8213, 1: 8213})\n"
          ]
        }
      ]
    },
    {
      "cell_type": "markdown",
      "source": [
        "Balanced Data"
      ],
      "metadata": {
        "id": "3lVawM9cpQcy"
      }
    },
    {
      "cell_type": "code",
      "source": [
        "# Train model\n",
        "parametersRF = {'n_estimators':15,'n_jobs':-1,'random_state':42}\n",
        "RF = RandomForestClassifier(**parametersRF)\n",
        "fitted_vals = RF.fit(train_X, train_Y)\n",
        " \n",
        "# Predict on testing set\n",
        "predictionsRF = RF.predict(test_X)\n",
        " \n",
        "     \n",
        "# Evaluating model\n",
        "CM_RF = confusion_matrix(test_Y,predictionsRF)\n",
        "CR_RF = classification_report(test_Y,predictionsRF)\n",
        "fprRF, recallRF, thresholdsRF = roc_curve(test_Y, predictionsRF)\n",
        "AUC_RF = auc(fprRF, recallRF)\n",
        "\n",
        "resultsRF = {\"Confusion Matrix\":CM_RF,\"Classification Report\":CR_RF,\"Area Under Curve\":AUC_RF}\n",
        "\n",
        "# showing results from Random Forest\n",
        "\n",
        "for measure in resultsRF:\n",
        "    print(measure,\": \\n\",resultsRF[measure])"
      ],
      "metadata": {
        "colab": {
          "base_uri": "https://localhost:8080/"
        },
        "id": "fnHuK7fYpOdp",
        "outputId": "75030dc0-f26b-4eeb-dacc-1461df58e5e2"
      },
      "execution_count": null,
      "outputs": [
        {
          "output_type": "stream",
          "name": "stdout",
          "text": [
            "Confusion Matrix : \n",
            " [[2477    2]\n",
            " [   9 2440]]\n",
            "Classification Report : \n",
            "               precision    recall  f1-score   support\n",
            "\n",
            "           0       1.00      1.00      1.00      2479\n",
            "           1       1.00      1.00      1.00      2449\n",
            "\n",
            "    accuracy                           1.00      4928\n",
            "   macro avg       1.00      1.00      1.00      4928\n",
            "weighted avg       1.00      1.00      1.00      4928\n",
            "\n",
            "Area Under Curve : \n",
            " 0.9977591268492824\n"
          ]
        }
      ]
    },
    {
      "cell_type": "code",
      "source": [
        "# Train model\n",
        "DT = DecisionTreeClassifier()\n",
        "fitted_vals = DT.fit(train_X, train_Y)\n",
        " \n",
        "# Predict on testing set\n",
        "predictionsDT = DT.predict(test_X)\n",
        " \n",
        "     \n",
        "# Evaluating model\n",
        "CM_DT = confusion_matrix(test_Y,predictionsDT)\n",
        "CR_DT = classification_report(test_Y,predictionsDT)\n",
        "fprDT, recallDT, thresholdsDT = roc_curve(test_Y, predictionsDT)\n",
        "AUC_DT = auc(fprDT, recallDT)\n",
        "\n",
        "resultsDT = {\"Confusion Matrix\":CM_DT,\"Classification Report\":CR_DT,\"Area Under Curve\":AUC_DT}\n",
        "\n",
        "# showing results from Random Forest\n",
        "\n",
        "for measure in resultsDT:\n",
        "    print(measure,\": \\n\",resultsDT[measure])"
      ],
      "metadata": {
        "colab": {
          "base_uri": "https://localhost:8080/"
        },
        "id": "PnRAyEmamXVd",
        "outputId": "b988ee71-bfe2-4178-bb2a-6b3f56d87198"
      },
      "execution_count": null,
      "outputs": [
        {
          "output_type": "stream",
          "name": "stdout",
          "text": [
            "Confusion Matrix : \n",
            " [[2474    5]\n",
            " [   7 2442]]\n",
            "Classification Report : \n",
            "               precision    recall  f1-score   support\n",
            "\n",
            "           0       1.00      1.00      1.00      2479\n",
            "           1       1.00      1.00      1.00      2449\n",
            "\n",
            "    accuracy                           1.00      4928\n",
            "   macro avg       1.00      1.00      1.00      4928\n",
            "weighted avg       1.00      1.00      1.00      4928\n",
            "\n",
            "Area Under Curve : \n",
            " 0.9975623740852314\n"
          ]
        }
      ]
    },
    {
      "cell_type": "code",
      "source": [
        "# Train model\n",
        "parametersXGB = {'max_depth':3,'class_weight': \"balanced\",'n_jobs':-1,'random_state':42,'learning_rate':0.1}\n",
        "XGB = XGBClassifier(**parametersXGB)\n",
        "    \n",
        "    \n",
        "fitted_vals = XGB.fit(train_X, train_Y)\n",
        " \n",
        "# Predict on testing set\n",
        "predictionsXGB = XGB.predict(test_X)\n",
        " \n",
        "     \n",
        "# Evaluating model\n",
        "CM_XGB = confusion_matrix(test_Y,predictionsXGB)\n",
        "CR_XGB = classification_report(test_Y,predictionsXGB)\n",
        "fprXGB, recallXGB, thresholds_XGB = roc_curve(test_Y, predictionsXGB)\n",
        "AUC_XGB = auc(fprXGB, recallXGB)\n",
        "resultsXGB = {\"Confusion Matrix\":CM_XGB,\"Classification Report\":CR_XGB,\"Area Under Curve\":AUC_XGB}\n",
        "# showing results from Extreme Gradient Boosting\n",
        "for measure in resultsXGB:\n",
        "    print(measure,\": \\n\",resultsXGB[measure],\"\\n\")"
      ],
      "metadata": {
        "colab": {
          "base_uri": "https://localhost:8080/"
        },
        "id": "1lIih9typfXw",
        "outputId": "c28cfad6-08c6-41fa-d676-309273210913"
      },
      "execution_count": null,
      "outputs": [
        {
          "output_type": "stream",
          "name": "stdout",
          "text": [
            "Confusion Matrix : \n",
            " [[2477    2]\n",
            " [   9 2440]] \n",
            "\n",
            "Classification Report : \n",
            "               precision    recall  f1-score   support\n",
            "\n",
            "           0       1.00      1.00      1.00      2479\n",
            "           1       1.00      1.00      1.00      2449\n",
            "\n",
            "    accuracy                           1.00      4928\n",
            "   macro avg       1.00      1.00      1.00      4928\n",
            "weighted avg       1.00      1.00      1.00      4928\n",
            " \n",
            "\n",
            "Area Under Curve : \n",
            " 0.9977591268492824 \n",
            "\n"
          ]
        }
      ]
    },
    {
      "cell_type": "code",
      "source": [
        "print(\"Classification Report of Random Forest: \\n\", CR_RF)\n",
        "print(\"Classification Report of Decision trees: \\n\", CR_DT)\n",
        "print(\"Classification Report of XGB trees: \\n\", CR_XGB)"
      ],
      "metadata": {
        "colab": {
          "base_uri": "https://localhost:8080/"
        },
        "id": "krYMmBVopfj4",
        "outputId": "4e8eb457-c00e-4163-88c1-598baa26d3e5"
      },
      "execution_count": null,
      "outputs": [
        {
          "output_type": "stream",
          "name": "stdout",
          "text": [
            "Classification Report of Random Forest: \n",
            "               precision    recall  f1-score   support\n",
            "\n",
            "           0       1.00      1.00      1.00      2479\n",
            "           1       1.00      1.00      1.00      2449\n",
            "\n",
            "    accuracy                           1.00      4928\n",
            "   macro avg       1.00      1.00      1.00      4928\n",
            "weighted avg       1.00      1.00      1.00      4928\n",
            "\n",
            "Classification Report of Decision trees: \n",
            "               precision    recall  f1-score   support\n",
            "\n",
            "           0       1.00      1.00      1.00      2479\n",
            "           1       1.00      1.00      1.00      2449\n",
            "\n",
            "    accuracy                           1.00      4928\n",
            "   macro avg       1.00      1.00      1.00      4928\n",
            "weighted avg       1.00      1.00      1.00      4928\n",
            "\n",
            "Classification Report of XGB trees: \n",
            "               precision    recall  f1-score   support\n",
            "\n",
            "           0       1.00      1.00      1.00      2479\n",
            "           1       1.00      1.00      1.00      2449\n",
            "\n",
            "    accuracy                           1.00      4928\n",
            "   macro avg       1.00      1.00      1.00      4928\n",
            "weighted avg       1.00      1.00      1.00      4928\n",
            "\n"
          ]
        }
      ]
    },
    {
      "cell_type": "code",
      "source": [
        "print(\"Number of valid transactions labelled as fraudulent by Random Forest: \\n\", CM_RF[0,1])\n",
        "print(\"Number of valid transactions labelled as fraudulent by XGB trees: \\n\", CM_XGB[0,1])\n",
        "print(\"Number of valid transactions labelled as fraudulent by Decision Tree: \\n\", CM_DT[0,1])"
      ],
      "metadata": {
        "colab": {
          "base_uri": "https://localhost:8080/"
        },
        "id": "QlnUelg1qSK0",
        "outputId": "c0c9590d-fdbd-476c-a66d-361b485f0e98"
      },
      "execution_count": null,
      "outputs": [
        {
          "output_type": "stream",
          "name": "stdout",
          "text": [
            "Number of valid transactions labelled as fraudulent by Random Forest: \n",
            " 2\n",
            "Number of valid transactions labelled as fraudulent by XGB trees: \n",
            " 2\n",
            "Number of valid transactions labelled as fraudulent by Decision Tree: \n",
            " 5\n"
          ]
        }
      ]
    },
    {
      "cell_type": "code",
      "source": [
        "print(\"Number of fraud transactions labelled as valid by Random Forest: \\n\", CM_RF[1,0])\n",
        "print(\"Number of fraud transactions labelled as valid by XGB trees: \\n\", CM_XGB[1,0])\n",
        "print(\"Number of fraud transactions labelled as valid by Decision Tree: \\n\", CM_DT[1,0])"
      ],
      "metadata": {
        "colab": {
          "base_uri": "https://localhost:8080/"
        },
        "id": "tapFK1s9qSWh",
        "outputId": "dfeb4686-2062-4438-bfe4-2ae71a612551"
      },
      "execution_count": null,
      "outputs": [
        {
          "output_type": "stream",
          "name": "stdout",
          "text": [
            "Number of fraud transactions labelled as valid by Random Forest: \n",
            " 9\n",
            "Number of fraud transactions labelled as valid by XGB trees: \n",
            " 9\n",
            "Number of fraud transactions labelled as valid by Decision Tree: \n",
            " 7\n"
          ]
        }
      ]
    },
    {
      "cell_type": "code",
      "source": [
        "print(\"\\nAUC of Random Forest: \\n\", AUC_RF)\n",
        "print(\"\\nAUC of Decision Tree: \\n\", AUC_DT)\n",
        "print(\"\\nAUC of XGB trees: \\n\", AUC_XGB)"
      ],
      "metadata": {
        "colab": {
          "base_uri": "https://localhost:8080/"
        },
        "id": "FYM0nGDcqSoO",
        "outputId": "52559192-7eb0-4975-e6ff-98552a029e91"
      },
      "execution_count": null,
      "outputs": [
        {
          "output_type": "stream",
          "name": "stdout",
          "text": [
            "\n",
            "AUC of Random Forest: \n",
            " 0.9977591268492824\n",
            "\n",
            "AUC of Decision Tree: \n",
            " 0.9975623740852314\n",
            "\n",
            "AUC of XGB trees: \n",
            " 0.9977591268492824\n"
          ]
        }
      ]
    },
    {
      "cell_type": "markdown",
      "source": [
        "Area Under Curve is a plot of the true positive rates (in our case, the proportion of valid transactions labelled as valid) against the false positive rate (in our case, the proportion of fraudulent transactions labelled as valid). The curve is also known as the Receiver Operating Characteristic Curve or ROC.\n",
        "\n",
        "The ideal AUC is then 1 (all transactions predicted as valid are actually valid)."
      ],
      "metadata": {
        "id": "O-nHzf3Hq6Ms"
      }
    },
    {
      "cell_type": "code",
      "source": [
        "#Important Features\n",
        "ncols = len(X.columns)\n",
        "x = np.arange(ncols)\n",
        "\n",
        "# getting importances of features\n",
        "importances = RF.feature_importances_\n",
        "\n",
        "# getting the indices of the most important feature to least important\n",
        "sort_ind = np.argsort(importances)[::-1]\n",
        "plt.figure(figsize=(18,7))\n",
        "plt.bar(x, importances[sort_ind])\n",
        "plt.xticks(x,tuple(X.columns.values[sort_ind]))\n",
        "plt.title(\"Important Features: Greatest to Least\")\n",
        "plt.show()\n"
      ],
      "metadata": {
        "colab": {
          "base_uri": "https://localhost:8080/",
          "height": 827
        },
        "id": "7LcraOAoqsFJ",
        "outputId": "37fb2bd9-58d6-470b-d71e-2134923996de"
      },
      "execution_count": null,
      "outputs": [
        {
          "output_type": "execute_result",
          "data": {
            "text/plain": [
              "<Figure size 1296x504 with 0 Axes>"
            ]
          },
          "metadata": {},
          "execution_count": 68
        },
        {
          "output_type": "execute_result",
          "data": {
            "text/plain": [
              "<BarContainer object of 11 artists>"
            ]
          },
          "metadata": {},
          "execution_count": 68
        },
        {
          "output_type": "execute_result",
          "data": {
            "text/plain": [
              "([<matplotlib.axis.XTick at 0x7fd752ba0ad0>,\n",
              "  <matplotlib.axis.XTick at 0x7fd752ba07d0>,\n",
              "  <matplotlib.axis.XTick at 0x7fd74f1f8310>,\n",
              "  <matplotlib.axis.XTick at 0x7fd75460cfd0>,\n",
              "  <matplotlib.axis.XTick at 0x7fd7552605d0>,\n",
              "  <matplotlib.axis.XTick at 0x7fd755260b10>,\n",
              "  <matplotlib.axis.XTick at 0x7fd755260b50>,\n",
              "  <matplotlib.axis.XTick at 0x7fd755260110>,\n",
              "  <matplotlib.axis.XTick at 0x7fd75548f6d0>,\n",
              "  <matplotlib.axis.XTick at 0x7fd75548fc10>,\n",
              "  <matplotlib.axis.XTick at 0x7fd75548fc90>],\n",
              " [Text(0, 0, 'errorbalanceOrg'),\n",
              "  Text(0, 0, 'oldbalanceOrg'),\n",
              "  Text(0, 0, 'newbalanceOrig'),\n",
              "  Text(0, 0, 'HourOfDay'),\n",
              "  Text(0, 0, 'amount'),\n",
              "  Text(0, 0, 'newbalanceDest'),\n",
              "  Text(0, 0, 'oldbalanceDest'),\n",
              "  Text(0, 0, 'step'),\n",
              "  Text(0, 0, 'errorbalanceDest'),\n",
              "  Text(0, 0, 'type_TRANSFER'),\n",
              "  Text(0, 0, 'type_CASH_OUT')])"
            ]
          },
          "metadata": {},
          "execution_count": 68
        },
        {
          "output_type": "execute_result",
          "data": {
            "text/plain": [
              "Text(0.5, 1.0, 'Important Features: Greatest to Least')"
            ]
          },
          "metadata": {},
          "execution_count": 68
        },
        {
          "output_type": "display_data",
          "data": {
            "image/png": "[encoded data removed]",
            "text/plain": [
              "<Figure size 1296x504 with 1 Axes>"
            ]
          },
          "metadata": {
            "needs_background": "light"
          }
        }
      ]
    },
    {
      "cell_type": "markdown",
      "source": [
        "errorBalanceOrg is the most important feature by far for classifying transactions followed by oldBalanceOrg and newBalanceOrig"
      ],
      "metadata": {
        "id": "KqBj7beCrLt8"
      }
    },
    {
      "cell_type": "code",
      "source": [
        "! pip install catboost"
      ],
      "metadata": {
        "colab": {
          "base_uri": "https://localhost:8080/"
        },
        "id": "SzqjjhC9rlnT",
        "outputId": "e9fa3bb3-ebea-42f8-94a3-962eab357aa3"
      },
      "execution_count": null,
      "outputs": [
        {
          "output_type": "stream",
          "name": "stdout",
          "text": [
            "Collecting catboost\n",
            "  Downloading catboost-1.0.4-cp37-none-manylinux1_x86_64.whl (76.1 MB)\n",
            "\u001b[K     |████████████████████████████████| 76.1 MB 62 kB/s \n",
            "\u001b[?25hRequirement already satisfied: matplotlib in /usr/local/lib/python3.7/dist-packages (from catboost) (3.2.2)\n",
            "Requirement already satisfied: plotly in /usr/local/lib/python3.7/dist-packages (from catboost) (5.5.0)\n",
            "Requirement already satisfied: six in /usr/local/lib/python3.7/dist-packages (from catboost) (1.15.0)\n",
            "Requirement already satisfied: scipy in /usr/local/lib/python3.7/dist-packages (from catboost) (1.4.1)\n",
            "Requirement already satisfied: graphviz in /usr/local/lib/python3.7/dist-packages (from catboost) (0.10.1)\n",
            "Requirement already satisfied: pandas>=0.24.0 in /usr/local/lib/python3.7/dist-packages (from catboost) (1.3.5)\n",
            "Requirement already satisfied: numpy>=1.16.0 in /usr/local/lib/python3.7/dist-packages (from catboost) (1.21.5)\n",
            "Requirement already satisfied: python-dateutil>=2.7.3 in /usr/local/lib/python3.7/dist-packages (from pandas>=0.24.0->catboost) (2.8.2)\n",
            "Requirement already satisfied: pytz>=2017.3 in /usr/local/lib/python3.7/dist-packages (from pandas>=0.24.0->catboost) (2018.9)\n",
            "Requirement already satisfied: cycler>=0.10 in /usr/local/lib/python3.7/dist-packages (from matplotlib->catboost) (0.11.0)\n",
            "Requirement already satisfied: kiwisolver>=1.0.1 in /usr/local/lib/python3.7/dist-packages (from matplotlib->catboost) (1.3.2)\n",
            "Requirement already satisfied: pyparsing!=2.0.4,!=2.1.2,!=2.1.6,>=2.0.1 in /usr/local/lib/python3.7/dist-packages (from matplotlib->catboost) (3.0.7)\n",
            "Requirement already satisfied: tenacity>=6.2.0 in /usr/local/lib/python3.7/dist-packages (from plotly->catboost) (8.0.1)\n",
            "Installing collected packages: catboost\n",
            "Successfully installed catboost-1.0.4\n"
          ]
        }
      ]
    },
    {
      "cell_type": "markdown",
      "source": [
        "Model\n",
        "\n",
        "From the data, we will use 80% for training and 20% for testing.\n",
        "\n",
        "CatBoostClassifier (CatBoost) algorithm is used.“CatBoost” name comes from two words “Category” and “Boosting”.CatBoost is a recently open-sourced machine learning algorithm from Yandex. It can easily integrate with deep learning frameworks like Google’s TensorFlow and Apple’s Core ML. It can work with diverse data types to help solve a wide range of problems that businesses face today. To top it up, it provides best-in-class accuracy.\n",
        "\n",
        "As discussed, the library works well with multiple Categories of data, such as audio, text, image including historical data.\n",
        "\n",
        "“Boost” comes from gradient boosting machine learning algorithm as this library is based on gradient boosting library. Gradient boosting is a powerful machine learning algorithm that is widely applied to multiple types of business challenges like fraud detection, recommendation items, forecasting and it performs well also. It can also return very good result with relatively less data, unlike DL models that need to learn from a massive amount of data.\n",
        "\n",
        "\n",
        "\n",
        "ROC-AUC is the metric choosen."
      ],
      "metadata": {
        "id": "IUWVn1CUmh4Y"
      }
    },
    {
      "cell_type": "code",
      "source": [
        "from sklearn.model_selection import train_test_split\n",
        "from sklearn.metrics import roc_auc_score\n",
        "from catboost import CatBoostClassifier"
      ],
      "metadata": {
        "id": "Xl4IjVWjiUkt"
      },
      "execution_count": null,
      "outputs": []
    },
    {
      "cell_type": "code",
      "source": [
        "#X = df1.drop(['isFraud', 'isFlaggedFraud'], axis=1)\n",
        "#y = df1.isFraud"
      ],
      "metadata": {
        "id": "_4bXYWPAiZsc"
      },
      "execution_count": null,
      "outputs": []
    },
    {
      "cell_type": "code",
      "source": [
        "train_x, valid_x, train_y, valid_y = train_test_split(X, Y, train_size=0.8, random_state=1234)"
      ],
      "metadata": {
        "id": "q6Xum_G8slev"
      },
      "execution_count": null,
      "outputs": []
    },
    {
      "cell_type": "code",
      "source": [
        "categorical_features_indices = np.where(X.dtypes != np.float)[0]"
      ],
      "metadata": {
        "id": "YPXs8uTmjNvg"
      },
      "execution_count": null,
      "outputs": []
    },
    {
      "cell_type": "code",
      "source": [
        "clf = CatBoostClassifier(iterations=500,\n",
        "                             learning_rate=0.02,\n",
        "                             depth=12,\n",
        "                             eval_metric='AUC',\n",
        "                             random_seed = 42,\n",
        "                             bagging_temperature = 0.2,\n",
        "                             od_type='Iter',\n",
        "                             metric_period = 20,\n",
        "                             od_wait=25)"
      ],
      "metadata": {
        "id": "qosJKfHUjNi-"
      },
      "execution_count": null,
      "outputs": []
    },
    {
      "cell_type": "code",
      "source": [
        "clf.fit(train_x, train_y,cat_features=categorical_features_indices,eval_set=(valid_x, valid_y),plot=True)"
      ],
      "metadata": {
        "colab": {
          "base_uri": "https://localhost:8080/",
          "height": 243,
          "referenced_widgets": [
            "7aae010ab8d14f62be2610b65095f368"
          ]
        },
        "id": "iN94h1WLtQQr",
        "outputId": "a5fc9cd3-e69d-4ac3-a736-c78d89ac0938"
      },
      "execution_count": null,
      "outputs": [
        {
          "output_type": "display_data",
          "data": {
            "application/vnd.jupyter.widget-view+json": {
              "model_id": "7aae010ab8d14f62be2610b65095f368",
              "version_minor": 0,
              "version_major": 2
            },
            "text/plain": [
              "MetricVisualizer(layout=Layout(align_self='stretch', height='500px'))"
            ]
          },
          "metadata": {}
        },
        {
          "output_type": "stream",
          "name": "stderr",
          "text": [
            "Warning: Overfitting detector is active, thus evaluation metric is calculated on every iteration. 'metric_period' is ignored for evaluation metric.\n"
          ]
        },
        {
          "output_type": "stream",
          "name": "stdout",
          "text": [
            "0:\ttest: 0.9632072\tbest: 0.9632072 (0)\ttotal: 8.29s\tremaining: 1h 8m 56s\n",
            "20:\ttest: 0.9989079\tbest: 0.9989079 (20)\ttotal: 1m 43s\tremaining: 39m 22s\n",
            "40:\ttest: 0.9990064\tbest: 0.9990064 (40)\ttotal: 3m 4s\tremaining: 34m 22s\n",
            "60:\ttest: 0.9990547\tbest: 0.9990596 (58)\ttotal: 4m 11s\tremaining: 30m 11s\n",
            "80:\ttest: 0.9990301\tbest: 0.9990596 (58)\ttotal: 5m 18s\tremaining: 27m 30s\n",
            "Stopped by overfitting detector  (25 iterations wait)\n",
            "\n",
            "bestTest = 0.9990595602\n",
            "bestIteration = 58\n",
            "\n",
            "Shrink model to first 59 iterations.\n"
          ]
        },
        {
          "output_type": "execute_result",
          "data": {
            "text/plain": [
              "<catboost.core.CatBoostClassifier at 0x7fd76ac83a90>"
            ]
          },
          "metadata": {},
          "execution_count": 87
        }
      ]
    },
    {
      "cell_type": "code",
      "source": [
        "preds = clf.predict(valid_x)"
      ],
      "metadata": {
        "id": "AnExsMePthD5"
      },
      "execution_count": null,
      "outputs": []
    },
    {
      "cell_type": "code",
      "source": [
        "cm = pd.crosstab(valid_y.values, preds, rownames=['Actual_unbalance'], colnames=['Predicted_unbalance'])\n",
        "fig, (ax1) = plt.subplots(ncols=1, figsize=(5,5))\n",
        "sns.heatmap(cm, \n",
        "            xticklabels=['Not Fraud', 'Fraud'],\n",
        "            yticklabels=['Not Fraud', 'Fraud'],\n",
        "            annot=True,ax=ax1,\n",
        "            linewidths=.2,linecolor=\"Darkblue\", cmap=\"Blues\")\n",
        "plt.title('Confusion Matrix', fontsize=14)\n",
        "plt.show()"
      ],
      "metadata": {
        "colab": {
          "base_uri": "https://localhost:8080/",
          "height": 369
        },
        "id": "wuETd44OtjS3",
        "outputId": "d45d6354-0d4e-4ef3-aadb-c869018027d0"
      },
      "execution_count": null,
      "outputs": [
        {
          "output_type": "execute_result",
          "data": {
            "text/plain": [
              "<matplotlib.axes._subplots.AxesSubplot at 0x7fd734aeca10>"
            ]
          },
          "metadata": {},
          "execution_count": 89
        },
        {
          "output_type": "execute_result",
          "data": {
            "text/plain": [
              "Text(0.5, 1.0, 'Confusion Matrix')"
            ]
          },
          "metadata": {},
          "execution_count": 89
        },
        {
          "output_type": "display_data",
          "data": {
            "image/png": "[encoded data removed]",
            "text/plain": [
              "<Figure size 360x360 with 2 Axes>"
            ]
          },
          "metadata": {
            "needs_background": "light"
          }
        }
      ]
    },
    {
      "cell_type": "code",
      "source": [
        "print(f\"ROC-AUC score: {roc_auc_score(valid_y.values, preds)}\")"
      ],
      "metadata": {
        "colab": {
          "base_uri": "https://localhost:8080/"
        },
        "id": "Td23nnyItuQG",
        "outputId": "9b24205c-4292-4c28-bdff-c937ea680f6e"
      },
      "execution_count": null,
      "outputs": [
        {
          "output_type": "stream",
          "name": "stdout",
          "text": [
            "ROC-AUC score: 0.9981718464351006\n"
          ]
        }
      ]
    },
    {
      "cell_type": "markdown",
      "source": [
        " CatBoostClassifier has the Area under Curve closest to 1 for unbalanced Data"
      ],
      "metadata": {
        "id": "SOKAuHj0u_FJ"
      }
    },
    {
      "cell_type": "code",
      "source": [
        ""
      ],
      "metadata": {
        "id": "DCfXiEwIu24w"
      },
      "execution_count": null,
      "outputs": []
    },
    {
      "cell_type": "code",
      "source": [
        "X_train, X_valid, y_train, y_valid = train_test_split(X_resampled, Y_resampled, train_size=0.8, random_state=1234)"
      ],
      "metadata": {
        "id": "RpeZ6DWViaX8"
      },
      "execution_count": null,
      "outputs": []
    },
    {
      "cell_type": "code",
      "source": [
        "clf.fit(X_train, y_train,cat_features=categorical_features_indices,eval_set=(X_valid, y_valid),plot=True)"
      ],
      "metadata": {
        "colab": {
          "base_uri": "https://localhost:8080/",
          "height": 277,
          "referenced_widgets": [
            "1e1e67a42b9c4da09dcc4da1da87dffa"
          ]
        },
        "id": "BrU7ZlfujTI9",
        "outputId": "4c1f932c-7304-4e3b-df42-23bb77180681"
      },
      "execution_count": null,
      "outputs": [
        {
          "output_type": "display_data",
          "data": {
            "application/vnd.jupyter.widget-view+json": {
              "model_id": "1e1e67a42b9c4da09dcc4da1da87dffa",
              "version_minor": 0,
              "version_major": 2
            },
            "text/plain": [
              "MetricVisualizer(layout=Layout(align_self='stretch', height='500px'))"
            ]
          },
          "metadata": {}
        },
        {
          "output_type": "stream",
          "name": "stderr",
          "text": [
            "Warning: Overfitting detector is active, thus evaluation metric is calculated on every iteration. 'metric_period' is ignored for evaluation metric.\n"
          ]
        },
        {
          "output_type": "stream",
          "name": "stdout",
          "text": [
            "0:\ttest: 0.9984522\tbest: 0.9984522 (0)\ttotal: 447ms\tremaining: 3m 43s\n",
            "20:\ttest: 0.9992380\tbest: 0.9993050 (7)\ttotal: 5.09s\tremaining: 1m 56s\n",
            "40:\ttest: 0.9992824\tbest: 0.9993106 (25)\ttotal: 9.66s\tremaining: 1m 48s\n",
            "60:\ttest: 0.9994188\tbest: 0.9994188 (60)\ttotal: 17.8s\tremaining: 2m 8s\n",
            "80:\ttest: 0.9994562\tbest: 0.9994847 (75)\ttotal: 23.8s\tremaining: 2m 3s\n",
            "100:\ttest: 0.9995125\tbest: 0.9995125 (100)\ttotal: 30.3s\tremaining: 1m 59s\n",
            "120:\ttest: 0.9994395\tbest: 0.9995125 (100)\ttotal: 38.3s\tremaining: 2m\n",
            "Stopped by overfitting detector  (25 iterations wait)\n",
            "\n",
            "bestTest = 0.9995124843\n",
            "bestIteration = 100\n",
            "\n",
            "Shrink model to first 101 iterations.\n"
          ]
        },
        {
          "output_type": "execute_result",
          "data": {
            "text/plain": [
              "<catboost.core.CatBoostClassifier at 0x7fd76ac83a90>"
            ]
          },
          "metadata": {},
          "execution_count": 85
        }
      ]
    },
    {
      "cell_type": "code",
      "source": [
        "preds = clf.predict(X_valid)"
      ],
      "metadata": {
        "id": "_UwpzE3CjikQ"
      },
      "execution_count": null,
      "outputs": []
    },
    {
      "cell_type": "code",
      "source": [
        "cm = pd.crosstab(y_valid.values, preds, rownames=['Actual'], colnames=['Predicted'])\n",
        "fig, (ax1) = plt.subplots(ncols=1, figsize=(5,5))\n",
        "sns.heatmap(cm, \n",
        "            xticklabels=['Not Fraud', 'Fraud'],\n",
        "            yticklabels=['Not Fraud', 'Fraud'],\n",
        "            annot=True,ax=ax1,\n",
        "            linewidths=.2,linecolor=\"Darkblue\", cmap=\"Blues\")\n",
        "plt.title('Confusion Matrix', fontsize=14)\n",
        "plt.show()"
      ],
      "metadata": {
        "colab": {
          "base_uri": "https://localhost:8080/",
          "height": 368
        },
        "id": "NfW0yxOAjkzj",
        "outputId": "7c8c682f-cf28-4d77-d55c-94a2517ffc10"
      },
      "execution_count": null,
      "outputs": [
        {
          "output_type": "execute_result",
          "data": {
            "text/plain": [
              "<matplotlib.axes._subplots.AxesSubplot at 0x7fd76af8bd90>"
            ]
          },
          "metadata": {},
          "execution_count": 77
        },
        {
          "output_type": "execute_result",
          "data": {
            "text/plain": [
              "Text(0.5, 1.0, 'Confusion Matrix')"
            ]
          },
          "metadata": {},
          "execution_count": 77
        },
        {
          "output_type": "display_data",
          "data": {
            "image/png": "[encoded data removed]",
            "text/plain": [
              "<Figure size 360x360 with 2 Axes>"
            ]
          },
          "metadata": {
            "needs_background": "light"
          }
        }
      ]
    },
    {
      "cell_type": "code",
      "source": [
        "print(f\"ROC-AUC score: {roc_auc_score(y_valid.values, preds)}\")"
      ],
      "metadata": {
        "colab": {
          "base_uri": "https://localhost:8080/"
        },
        "id": "Avrzzm84jxrG",
        "outputId": "faa1a4e5-81a1-4bd2-b123-7f1776a8f2d5"
      },
      "execution_count": null,
      "outputs": [
        {
          "output_type": "stream",
          "name": "stdout",
          "text": [
            "ROC-AUC score: 0.9975741521846386\n"
          ]
        }
      ]
    },
    {
      "cell_type": "code",
      "source": [
        "print(\"\\nAUC of Random Forest: \\n\", AUC_RF)\n",
        "print(\"\\nAUC of XGB trees: \\n\", AUC_XGB)"
      ],
      "metadata": {
        "colab": {
          "base_uri": "https://localhost:8080/"
        },
        "id": "DzaC52SIjk6J",
        "outputId": "63a84410-c7b1-460e-a6cd-3c494f1fa4e6"
      },
      "execution_count": null,
      "outputs": [
        {
          "output_type": "stream",
          "name": "stdout",
          "text": [
            "\n",
            "AUC of Random Forest: \n",
            " 0.9977591268492824\n",
            "\n",
            "AUC of XGB trees: \n",
            " 0.9977591268492824\n"
          ]
        }
      ]
    },
    {
      "cell_type": "markdown",
      "source": [
        "Random Forest and XGB has the Area under Curve closest to 1"
      ],
      "metadata": {
        "id": "wFczRRpOsIde"
      }
    }
  ]
}